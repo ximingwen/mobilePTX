{
 "cells": [
  {
   "cell_type": "code",
   "execution_count": 1,
   "id": "fd828f96-733f-4339-947d-b9d6b80b0ccf",
   "metadata": {},
   "outputs": [],
   "source": [
    "import torch\n",
    "from torch.nn.functional import conv1d\n",
    "from torch.nn.functional import conv2d\n",
    "from torch.nn.functional import conv3d\n",
    "from torch.nn.functional import conv_transpose3d"
   ]
  },
  {
   "cell_type": "markdown",
   "id": "5d4e331f-285d-4be3-80a3-427bba0ac6c1",
   "metadata": {},
   "source": [
    "# Combining 1D Convolutions"
   ]
  },
  {
   "cell_type": "code",
   "execution_count": 2,
   "id": "05a3a30c-c755-4058-845d-8758eb0edce2",
   "metadata": {},
   "outputs": [],
   "source": [
    "x = torch.rand(10).unsqueeze(0).unsqueeze(0).float()\n",
    "f = torch.tensor([1,1,1]).unsqueeze(0).unsqueeze(0).float()"
   ]
  },
  {
   "cell_type": "code",
   "execution_count": 3,
   "id": "e37d666a-d434-479c-92aa-8d64e6048aed",
   "metadata": {},
   "outputs": [
    {
     "data": {
      "text/plain": [
       "tensor([[[4.6860, 5.4231, 5.3521, 3.8716, 2.3654, 2.1638]]])"
      ]
     },
     "execution_count": 3,
     "metadata": {},
     "output_type": "execute_result"
    }
   ],
   "source": [
    "conv1d(conv1d(x, f), f)"
   ]
  },
  {
   "cell_type": "code",
   "execution_count": 4,
   "id": "d6242421-4fa9-42a9-85fb-081df5c28bff",
   "metadata": {},
   "outputs": [
    {
     "data": {
      "text/plain": [
       "tensor([[[4.6860, 5.4231, 5.3521, 3.8716, 2.3654, 2.1638]]])"
      ]
     },
     "execution_count": 4,
     "metadata": {},
     "output_type": "execute_result"
    }
   ],
   "source": [
    "conv1d(x, conv1d(f, f, padding=f.shape[2]-1))"
   ]
  },
  {
   "cell_type": "code",
   "execution_count": 5,
   "id": "eb41b2eb-1e8a-4f60-b0ba-0ddf18c83baa",
   "metadata": {},
   "outputs": [
    {
     "data": {
      "text/plain": [
       "tensor(True)"
      ]
     },
     "execution_count": 5,
     "metadata": {},
     "output_type": "execute_result"
    }
   ],
   "source": [
    "torch.isclose(conv1d(conv1d(x, f), f),\n",
    "              conv1d(x, conv1d(f, f, padding=f.shape[2]-1))).all()"
   ]
  },
  {
   "cell_type": "code",
   "execution_count": 6,
   "id": "e4acbe06-a803-4ef2-8a3b-3a9519230cf5",
   "metadata": {},
   "outputs": [
    {
     "data": {
      "text/plain": [
       "tensor([[[1., 2., 3., 2., 1.]]])"
      ]
     },
     "execution_count": 6,
     "metadata": {},
     "output_type": "execute_result"
    }
   ],
   "source": [
    "conv1d(f, f, padding=f.shape[2]-1)"
   ]
  },
  {
   "cell_type": "markdown",
   "id": "580fc544-4eb4-4bd6-b716-0e4e20e3c286",
   "metadata": {},
   "source": [
    "# Combining 2D Convolutions"
   ]
  },
  {
   "cell_type": "code",
   "execution_count": 7,
   "id": "e096534d-f081-493d-90d7-68df50d9cfa2",
   "metadata": {},
   "outputs": [],
   "source": [
    "x = torch.rand(1, 1, 10,10).double()\n",
    "f = torch.ones(1, 1, 3, 3).double()"
   ]
  },
  {
   "cell_type": "code",
   "execution_count": 8,
   "id": "fccc5124-0218-48ef-aa69-0b33efe78945",
   "metadata": {},
   "outputs": [
    {
     "data": {
      "text/plain": [
       "tensor([[[[47.7161, 45.6197, 41.2246, 39.8701, 39.9359, 42.3967],\n",
       "          [46.2592, 45.2626, 39.2659, 36.7648, 35.2137, 37.0153],\n",
       "          [45.5694, 45.4108, 39.5216, 34.7581, 31.5526, 33.3274],\n",
       "          [45.8617, 47.7183, 43.8074, 39.3699, 33.7974, 34.8290],\n",
       "          [48.3470, 52.2104, 50.7168, 46.0268, 37.6444, 35.5286],\n",
       "          [50.3107, 53.9540, 53.8947, 49.7427, 39.4608, 33.1865]]]],\n",
       "       dtype=torch.float64)"
      ]
     },
     "execution_count": 8,
     "metadata": {},
     "output_type": "execute_result"
    }
   ],
   "source": [
    "conv2d(conv2d(x, f), f)"
   ]
  },
  {
   "cell_type": "code",
   "execution_count": 9,
   "id": "d6577d44-1a17-4b4b-8e1b-41aeef398dd5",
   "metadata": {},
   "outputs": [
    {
     "data": {
      "text/plain": [
       "tensor([[[[47.7161, 45.6197, 41.2246, 39.8701, 39.9359, 42.3967],\n",
       "          [46.2592, 45.2626, 39.2659, 36.7648, 35.2137, 37.0153],\n",
       "          [45.5694, 45.4108, 39.5216, 34.7581, 31.5526, 33.3274],\n",
       "          [45.8617, 47.7183, 43.8074, 39.3699, 33.7974, 34.8290],\n",
       "          [48.3470, 52.2104, 50.7168, 46.0268, 37.6444, 35.5286],\n",
       "          [50.3107, 53.9540, 53.8947, 49.7427, 39.4608, 33.1865]]]],\n",
       "       dtype=torch.float64)"
      ]
     },
     "execution_count": 9,
     "metadata": {},
     "output_type": "execute_result"
    }
   ],
   "source": [
    "conv2d(x, conv2d(f, f, padding=2))"
   ]
  },
  {
   "cell_type": "code",
   "execution_count": 10,
   "id": "bb0b891e-ee61-496c-8eb5-6b6a80d8d82c",
   "metadata": {},
   "outputs": [
    {
     "data": {
      "text/plain": [
       "tensor(True)"
      ]
     },
     "execution_count": 10,
     "metadata": {},
     "output_type": "execute_result"
    }
   ],
   "source": [
    "torch.isclose(conv2d(conv2d(x, f), f),\n",
    "              conv2d(x, conv2d(f, f, padding=2))).all()"
   ]
  },
  {
   "cell_type": "code",
   "execution_count": 11,
   "id": "ea1dbe9f-1d03-4b86-91ba-7808d2546873",
   "metadata": {},
   "outputs": [
    {
     "data": {
      "text/plain": [
       "tensor([[[[1., 2., 3., 2., 1.],\n",
       "          [2., 4., 6., 4., 2.],\n",
       "          [3., 6., 9., 6., 3.],\n",
       "          [2., 4., 6., 4., 2.],\n",
       "          [1., 2., 3., 2., 1.]]]], dtype=torch.float64)"
      ]
     },
     "execution_count": 11,
     "metadata": {},
     "output_type": "execute_result"
    }
   ],
   "source": [
    "conv2d(f, f, padding=f.shape[2]-1)"
   ]
  },
  {
   "cell_type": "markdown",
   "id": "21c08587-f88c-4bb3-a48a-052c173230b1",
   "metadata": {},
   "source": [
    "# Combining 3D Convolutions"
   ]
  },
  {
   "cell_type": "code",
   "execution_count": 12,
   "id": "dc5358b7-be10-4c63-a7d9-abf39e51cc77",
   "metadata": {},
   "outputs": [],
   "source": [
    "x = torch.rand(1, 1, 6, 6, 6).float()\n",
    "f = torch.ones(1, 1, 3, 3, 3).float()"
   ]
  },
  {
   "cell_type": "code",
   "execution_count": 13,
   "id": "10682afe-1144-45a1-ab68-5cf260b8c98c",
   "metadata": {},
   "outputs": [
    {
     "data": {
      "text/plain": [
       "tensor([[[[[322.2564, 337.0458],\n",
       "           [319.8718, 341.2558]],\n",
       "\n",
       "          [[300.5420, 317.6799],\n",
       "           [303.3722, 323.1547]]]]])"
      ]
     },
     "execution_count": 13,
     "metadata": {},
     "output_type": "execute_result"
    }
   ],
   "source": [
    "conv3d(conv3d(x, f), f)"
   ]
  },
  {
   "cell_type": "code",
   "execution_count": 14,
   "id": "20a9777d-9c26-41fe-816c-756f2c1c4959",
   "metadata": {},
   "outputs": [
    {
     "data": {
      "text/plain": [
       "tensor([[[[[322.2565, 337.0458],\n",
       "           [319.8718, 341.2557]],\n",
       "\n",
       "          [[300.5420, 317.6798],\n",
       "           [303.3721, 323.1546]]]]])"
      ]
     },
     "execution_count": 14,
     "metadata": {},
     "output_type": "execute_result"
    }
   ],
   "source": [
    "conv3d(x, conv3d(f, f, padding=f.shape[2]-1))"
   ]
  },
  {
   "cell_type": "code",
   "execution_count": 15,
   "id": "6419ad83-43e7-4f0b-84a5-30156f3725f1",
   "metadata": {},
   "outputs": [
    {
     "data": {
      "text/plain": [
       "tensor(True)"
      ]
     },
     "execution_count": 15,
     "metadata": {},
     "output_type": "execute_result"
    }
   ],
   "source": [
    "torch.isclose(conv3d(conv3d(x, f), f),\n",
    "              conv3d(x, conv3d(f, f, padding=f.shape[2]-1))).all()"
   ]
  },
  {
   "cell_type": "code",
   "execution_count": 16,
   "id": "d872024e-d705-416e-bd4b-a7a7fdab3911",
   "metadata": {},
   "outputs": [
    {
     "data": {
      "text/plain": [
       "torch.Size([1, 1, 5, 5, 5])"
      ]
     },
     "execution_count": 16,
     "metadata": {},
     "output_type": "execute_result"
    }
   ],
   "source": [
    "conv3d(f, f, padding=f.shape[2]-1).shape"
   ]
  },
  {
   "cell_type": "markdown",
   "id": "6915a1dd-e6fe-48c2-a9c9-23538981e1cc",
   "metadata": {},
   "source": [
    "# Combining 3d conv and deconv"
   ]
  },
  {
   "cell_type": "code",
   "execution_count": 17,
   "id": "de28a549-15dc-4c4d-ae97-dea1f966fbe0",
   "metadata": {},
   "outputs": [],
   "source": [
    "x = torch.rand(1, 2, 4, 4, 4).float()\n",
    "f = torch.rand(2, 1, 2, 2, 2).float()"
   ]
  },
  {
   "cell_type": "code",
   "execution_count": 18,
   "id": "8b304e25-1df3-4575-bdec-53c41e9237fe",
   "metadata": {},
   "outputs": [
    {
     "data": {
      "text/plain": [
       "tensor([[[[[ 6.7947,  9.3210,  8.7730,  5.7996],\n",
       "           [ 6.6157, 10.5132, 10.2960,  5.9712],\n",
       "           [ 8.3911, 10.6076,  8.9293,  5.5777],\n",
       "           [ 8.6277, 10.9423,  8.8907,  5.8671]],\n",
       "\n",
       "          [[ 7.6218,  9.6929,  9.1714,  6.3557],\n",
       "           [11.0009, 14.5086, 12.7852,  8.4129],\n",
       "           [13.5989, 17.7788, 16.5410, 10.8110],\n",
       "           [10.7948, 14.7808, 14.5563,  9.8212]],\n",
       "\n",
       "          [[ 9.7662, 10.2473,  8.3275,  5.9850],\n",
       "           [13.6592, 16.9809, 16.4182, 11.1959],\n",
       "           [13.9259, 18.3572, 19.3461, 13.1436],\n",
       "           [ 9.0436, 12.7738, 14.1969,  9.3066]],\n",
       "\n",
       "          [[ 8.0103,  8.8138,  7.8530,  5.8490],\n",
       "           [10.3978, 12.7006, 12.1097,  8.2535],\n",
       "           [ 8.9190, 12.1912, 13.5279,  8.0708],\n",
       "           [ 4.9424,  7.1872,  9.5022,  6.9289]]],\n",
       "\n",
       "\n",
       "         [[[ 4.9157,  8.5273,  8.5266,  6.6892],\n",
       "           [ 4.6624,  9.7062, 10.6973,  7.6970],\n",
       "           [ 5.9475,  9.8349, 10.3466,  6.8353],\n",
       "           [ 5.4772,  9.6031,  8.9292,  6.4148]],\n",
       "\n",
       "          [[ 5.9615, 10.1533,  9.2468,  7.3248],\n",
       "           [ 7.6872, 14.1890, 14.2502, 11.3617],\n",
       "           [ 8.8272, 16.2988, 15.8978, 13.1038],\n",
       "           [ 7.0853, 13.7240, 13.5042, 11.0616]],\n",
       "\n",
       "          [[ 7.4271, 10.5332,  8.0886,  7.0742],\n",
       "           [10.1487, 15.7929, 15.5657, 12.5755],\n",
       "           [10.0575, 16.7452, 18.1682, 16.1241],\n",
       "           [ 6.6306, 11.8314, 13.0681, 13.3798]],\n",
       "\n",
       "          [[ 6.4501,  8.5985,  6.5787,  5.5151],\n",
       "           [ 8.2798, 11.9913, 11.8182,  9.5615],\n",
       "           [ 7.6071, 11.1977, 13.3167, 11.0937],\n",
       "           [ 4.6889,  7.4538,  9.8151,  9.9063]]]]])"
      ]
     },
     "execution_count": 18,
     "metadata": {},
     "output_type": "execute_result"
    }
   ],
   "source": [
    "conv3d(conv_transpose3d(x, f), f)"
   ]
  },
  {
   "cell_type": "code",
   "execution_count": 19,
   "id": "87b64e7b-dcd5-445c-89c6-2dfdfb3dbe16",
   "metadata": {},
   "outputs": [
    {
     "data": {
      "text/plain": [
       "tensor([[[[[ 6.7947,  9.3210,  8.7730,  5.7996],\n",
       "           [ 6.6157, 10.5132, 10.2960,  5.9712],\n",
       "           [ 8.3911, 10.6076,  8.9293,  5.5777],\n",
       "           [ 8.6277, 10.9423,  8.8907,  5.8671]],\n",
       "\n",
       "          [[ 7.6218,  9.6929,  9.1714,  6.3557],\n",
       "           [11.0009, 14.5086, 12.7852,  8.4129],\n",
       "           [13.5989, 17.7789, 16.5410, 10.8110],\n",
       "           [10.7948, 14.7808, 14.5563,  9.8212]],\n",
       "\n",
       "          [[ 9.7662, 10.2473,  8.3276,  5.9850],\n",
       "           [13.6592, 16.9809, 16.4182, 11.1959],\n",
       "           [13.9259, 18.3572, 19.3461, 13.1436],\n",
       "           [ 9.0436, 12.7737, 14.1969,  9.3066]],\n",
       "\n",
       "          [[ 8.0103,  8.8138,  7.8530,  5.8490],\n",
       "           [10.3978, 12.7006, 12.1097,  8.2535],\n",
       "           [ 8.9190, 12.1912, 13.5279,  8.0708],\n",
       "           [ 4.9424,  7.1872,  9.5022,  6.9289]]],\n",
       "\n",
       "\n",
       "         [[[ 4.9157,  8.5273,  8.5266,  6.6892],\n",
       "           [ 4.6624,  9.7062, 10.6973,  7.6970],\n",
       "           [ 5.9475,  9.8349, 10.3466,  6.8353],\n",
       "           [ 5.4772,  9.6031,  8.9292,  6.4148]],\n",
       "\n",
       "          [[ 5.9615, 10.1533,  9.2468,  7.3248],\n",
       "           [ 7.6872, 14.1890, 14.2502, 11.3617],\n",
       "           [ 8.8272, 16.2988, 15.8978, 13.1038],\n",
       "           [ 7.0853, 13.7240, 13.5042, 11.0616]],\n",
       "\n",
       "          [[ 7.4271, 10.5332,  8.0886,  7.0742],\n",
       "           [10.1487, 15.7929, 15.5657, 12.5755],\n",
       "           [10.0575, 16.7452, 18.1682, 16.1241],\n",
       "           [ 6.6306, 11.8314, 13.0681, 13.3798]],\n",
       "\n",
       "          [[ 6.4501,  8.5985,  6.5787,  5.5151],\n",
       "           [ 8.2798, 11.9913, 11.8182,  9.5615],\n",
       "           [ 7.6071, 11.1977, 13.3167, 11.0937],\n",
       "           [ 4.6889,  7.4538,  9.8151,  9.9063]]]]])"
      ]
     },
     "execution_count": 19,
     "metadata": {},
     "output_type": "execute_result"
    }
   ],
   "source": [
    "combined_f = conv3d(f, f, padding=1)\n",
    "conv_transpose3d(x, combined_f, padding=1)"
   ]
  },
  {
   "cell_type": "code",
   "execution_count": 20,
   "id": "1e115fa5-aaaf-424f-93b4-07864eaf9726",
   "metadata": {},
   "outputs": [
    {
     "data": {
      "text/plain": [
       "tensor(True)"
      ]
     },
     "execution_count": 20,
     "metadata": {},
     "output_type": "execute_result"
    }
   ],
   "source": [
    "torch.isclose(conv3d(conv_transpose3d(x, f), f), conv_transpose3d(x, combined_f, padding=1)).all()"
   ]
  },
  {
   "cell_type": "markdown",
   "id": "5affbe18-a4d7-45aa-95a0-be27faf78e08",
   "metadata": {},
   "source": [
    "# Timing combined 3D conv and deconv"
   ]
  },
  {
   "cell_type": "code",
   "execution_count": 22,
   "id": "54277cd6-2c55-4f79-a741-e38e3cae662f",
   "metadata": {},
   "outputs": [],
   "source": [
    "x = torch.rand(1, 1, 20, 20, 20).float()\n",
    "f = torch.rand(1, 1, 8, 8, 8).float()"
   ]
  },
  {
   "cell_type": "code",
   "execution_count": 23,
   "id": "5fe5d1f6-3294-4ea6-ba61-7d54730eb282",
   "metadata": {},
   "outputs": [
    {
     "name": "stdout",
     "output_type": "stream",
     "text": [
      "176 ms ± 45.1 ms per loop (mean ± std. dev. of 10 runs, 3 loops each)\n"
     ]
    }
   ],
   "source": [
    "%timeit -n3 -r10 conv3d(conv_transpose3d(x, f), f)"
   ]
  },
  {
   "cell_type": "code",
   "execution_count": 24,
   "id": "73fc2c91-a453-4817-afb2-b2db30f8b347",
   "metadata": {},
   "outputs": [],
   "source": [
    "combined_f = conv3d(f, f, padding=f.shape[3]-1)"
   ]
  },
  {
   "cell_type": "code",
   "execution_count": 25,
   "id": "aa06b4db-b50c-4dac-99e6-a929701614b7",
   "metadata": {},
   "outputs": [
    {
     "name": "stdout",
     "output_type": "stream",
     "text": [
      "99.9 ms ± 2.6 ms per loop (mean ± std. dev. of 10 runs, 3 loops each)\n"
     ]
    }
   ],
   "source": [
    "%timeit -n3 -r10 conv_transpose3d(x, combined_f, padding=f.shape[3]-1)"
   ]
  },
  {
   "cell_type": "markdown",
   "id": "93acab47-f3b7-4090-bac6-615665e5187c",
   "metadata": {},
   "source": [
    "# Timing combined 3d conv and deconv with many filters"
   ]
  },
  {
   "cell_type": "code",
   "execution_count": 26,
   "id": "758e36e7-ece4-4e36-b96a-eca74d7eed5d",
   "metadata": {},
   "outputs": [],
   "source": [
    "x = torch.rand(1, 1, 4, 400, 700).float()\n",
    "f = torch.rand(10, 1, 4, 8, 8).float()\n",
    "act = conv3d(x, f)"
   ]
  },
  {
   "cell_type": "code",
   "execution_count": 27,
   "id": "d193950c-c387-4f2b-ba9a-f9552ce53b5f",
   "metadata": {},
   "outputs": [
    {
     "data": {
      "text/plain": [
       "torch.Size([1, 10, 1, 393, 693])"
      ]
     },
     "execution_count": 27,
     "metadata": {},
     "output_type": "execute_result"
    }
   ],
   "source": [
    "act.shape"
   ]
  },
  {
   "cell_type": "code",
   "execution_count": 28,
   "id": "98ee75a2-dfcb-4214-8e58-e09344e303fa",
   "metadata": {},
   "outputs": [
    {
     "name": "stdout",
     "output_type": "stream",
     "text": [
      "407 ms ± 75.9 ms per loop (mean ± std. dev. of 10 runs, 3 loops each)\n"
     ]
    }
   ],
   "source": [
    "%timeit -n3 -r10 conv3d(conv_transpose3d(act, f), f)"
   ]
  },
  {
   "cell_type": "code",
   "execution_count": 29,
   "id": "34cf802b-2a14-4988-bcc2-9ccae0a5bc4b",
   "metadata": {},
   "outputs": [
    {
     "data": {
      "text/plain": [
       "torch.Size([1, 10, 1, 393, 693])"
      ]
     },
     "execution_count": 29,
     "metadata": {},
     "output_type": "execute_result"
    }
   ],
   "source": [
    "conv3d(conv_transpose3d(act, f), f).shape"
   ]
  },
  {
   "cell_type": "code",
   "execution_count": 30,
   "id": "7acb35fd-ec55-4b31-b0f5-284dfb65da02",
   "metadata": {},
   "outputs": [
    {
     "data": {
      "text/plain": [
       "torch.Size([10, 10, 15, 15, 15])"
      ]
     },
     "execution_count": 30,
     "metadata": {},
     "output_type": "execute_result"
    }
   ],
   "source": [
    "combined_f = conv3d(f, f, padding=f.shape[3]-1)\n",
    "combined_f.shape"
   ]
  },
  {
   "cell_type": "code",
   "execution_count": 31,
   "id": "40e5cda4-afad-4f78-ac02-f030817467a0",
   "metadata": {},
   "outputs": [
    {
     "name": "stdout",
     "output_type": "stream",
     "text": [
      "11.2 s ± 535 ms per loop (mean ± std. dev. of 10 runs, 3 loops each)\n",
      "Compiler time: 0.40 s\n"
     ]
    }
   ],
   "source": [
    "%timeit -n3 -r10 conv_transpose3d(act, combined_f, padding=f.shape[3]-1)"
   ]
  },
  {
   "cell_type": "code",
   "execution_count": 32,
   "id": "a1253b1d-96ab-44b3-8821-d254e8e44c63",
   "metadata": {},
   "outputs": [
    {
     "data": {
      "text/plain": [
       "torch.Size([1, 10, 1, 393, 693])"
      ]
     },
     "execution_count": 32,
     "metadata": {},
     "output_type": "execute_result"
    }
   ],
   "source": [
    "conv_transpose3d(act, combined_f, padding=f.shape[3]-1).shape"
   ]
  },
  {
   "cell_type": "code",
   "execution_count": 33,
   "id": "cf593b39-e3a8-4b26-bb57-a03e7682323c",
   "metadata": {},
   "outputs": [
    {
     "data": {
      "text/plain": [
       "tensor(True)"
      ]
     },
     "execution_count": 33,
     "metadata": {},
     "output_type": "execute_result"
    }
   ],
   "source": [
    "torch.isclose(conv3d(conv_transpose3d(act, f), f), conv_transpose3d(act, combined_f, padding=f.shape[3]-1)).all()"
   ]
  },
  {
   "cell_type": "code",
   "execution_count": null,
   "id": "5356ec7d-6e93-4234-ba15-4a8dcb6e0fe8",
   "metadata": {},
   "outputs": [],
   "source": []
  }
 ],
 "metadata": {
  "kernelspec": {
   "display_name": "chris-py3.9.6",
   "language": "python",
   "name": "chris-py3.9.6"
  },
  "language_info": {
   "codemirror_mode": {
    "name": "ipython",
    "version": 3
   },
   "file_extension": ".py",
   "mimetype": "text/x-python",
   "name": "python",
   "nbconvert_exporter": "python",
   "pygments_lexer": "ipython3",
   "version": "3.9.6"
  }
 },
 "nbformat": 4,
 "nbformat_minor": 5
}
