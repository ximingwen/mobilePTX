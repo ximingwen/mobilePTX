{
 "cells": [
  {
   "cell_type": "code",
   "execution_count": 1,
   "id": "ea267f3e-e104-4ab5-a3e7-a88245539127",
   "metadata": {},
   "outputs": [
    {
     "name": "stderr",
     "output_type": "stream",
     "text": [
      "2022-09-20 19:04:53.559420: I tensorflow/stream_executor/cuda/cuda_gpu_executor.cc:975] successful NUMA node read from SysFS had negative value (-1), but there must be at least one NUMA node, so returning NUMA node zero\n",
      "2022-09-20 19:04:53.561532: I tensorflow/stream_executor/cuda/cuda_gpu_executor.cc:975] successful NUMA node read from SysFS had negative value (-1), but there must be at least one NUMA node, so returning NUMA node zero\n",
      "2022-09-20 19:04:53.563471: I tensorflow/stream_executor/cuda/cuda_gpu_executor.cc:975] successful NUMA node read from SysFS had negative value (-1), but there must be at least one NUMA node, so returning NUMA node zero\n",
      "2022-09-20 19:04:53.565520: I tensorflow/stream_executor/cuda/cuda_gpu_executor.cc:975] successful NUMA node read from SysFS had negative value (-1), but there must be at least one NUMA node, so returning NUMA node zero\n",
      "2022-09-20 19:04:53.575543: I tensorflow/stream_executor/cuda/cuda_gpu_executor.cc:975] successful NUMA node read from SysFS had negative value (-1), but there must be at least one NUMA node, so returning NUMA node zero\n",
      "2022-09-20 19:04:53.577596: I tensorflow/stream_executor/cuda/cuda_gpu_executor.cc:975] successful NUMA node read from SysFS had negative value (-1), but there must be at least one NUMA node, so returning NUMA node zero\n",
      "2022-09-20 19:04:53.579563: I tensorflow/stream_executor/cuda/cuda_gpu_executor.cc:975] successful NUMA node read from SysFS had negative value (-1), but there must be at least one NUMA node, so returning NUMA node zero\n",
      "2022-09-20 19:04:53.581562: I tensorflow/stream_executor/cuda/cuda_gpu_executor.cc:975] successful NUMA node read from SysFS had negative value (-1), but there must be at least one NUMA node, so returning NUMA node zero\n",
      "2022-09-20 19:04:53.583495: I tensorflow/stream_executor/cuda/cuda_gpu_executor.cc:975] successful NUMA node read from SysFS had negative value (-1), but there must be at least one NUMA node, so returning NUMA node zero\n",
      "2022-09-20 19:04:53.585358: I tensorflow/stream_executor/cuda/cuda_gpu_executor.cc:975] successful NUMA node read from SysFS had negative value (-1), but there must be at least one NUMA node, so returning NUMA node zero\n",
      "2022-09-20 19:04:53.587191: I tensorflow/stream_executor/cuda/cuda_gpu_executor.cc:975] successful NUMA node read from SysFS had negative value (-1), but there must be at least one NUMA node, so returning NUMA node zero\n",
      "2022-09-20 19:04:53.588994: I tensorflow/stream_executor/cuda/cuda_gpu_executor.cc:975] successful NUMA node read from SysFS had negative value (-1), but there must be at least one NUMA node, so returning NUMA node zero\n",
      "2022-09-20 19:04:53.591695: I tensorflow/core/platform/cpu_feature_guard.cc:193] This TensorFlow binary is optimized with oneAPI Deep Neural Network Library (oneDNN) to use the following CPU instructions in performance-critical operations:  AVX2 FMA\n",
      "To enable them in other operations, rebuild TensorFlow with the appropriate compiler flags.\n",
      "2022-09-20 19:04:53.974795: I tensorflow/stream_executor/cuda/cuda_gpu_executor.cc:975] successful NUMA node read from SysFS had negative value (-1), but there must be at least one NUMA node, so returning NUMA node zero\n",
      "2022-09-20 19:04:53.976628: I tensorflow/stream_executor/cuda/cuda_gpu_executor.cc:975] successful NUMA node read from SysFS had negative value (-1), but there must be at least one NUMA node, so returning NUMA node zero\n",
      "2022-09-20 19:04:53.978416: I tensorflow/stream_executor/cuda/cuda_gpu_executor.cc:975] successful NUMA node read from SysFS had negative value (-1), but there must be at least one NUMA node, so returning NUMA node zero\n",
      "2022-09-20 19:04:53.980218: I tensorflow/stream_executor/cuda/cuda_gpu_executor.cc:975] successful NUMA node read from SysFS had negative value (-1), but there must be at least one NUMA node, so returning NUMA node zero\n",
      "2022-09-20 19:04:53.981984: I tensorflow/stream_executor/cuda/cuda_gpu_executor.cc:975] successful NUMA node read from SysFS had negative value (-1), but there must be at least one NUMA node, so returning NUMA node zero\n",
      "2022-09-20 19:04:53.983693: I tensorflow/stream_executor/cuda/cuda_gpu_executor.cc:975] successful NUMA node read from SysFS had negative value (-1), but there must be at least one NUMA node, so returning NUMA node zero\n",
      "2022-09-20 19:04:53.985422: I tensorflow/stream_executor/cuda/cuda_gpu_executor.cc:975] successful NUMA node read from SysFS had negative value (-1), but there must be at least one NUMA node, so returning NUMA node zero\n",
      "2022-09-20 19:04:53.987131: I tensorflow/stream_executor/cuda/cuda_gpu_executor.cc:975] successful NUMA node read from SysFS had negative value (-1), but there must be at least one NUMA node, so returning NUMA node zero\n",
      "2022-09-20 19:04:53.988849: I tensorflow/stream_executor/cuda/cuda_gpu_executor.cc:975] successful NUMA node read from SysFS had negative value (-1), but there must be at least one NUMA node, so returning NUMA node zero\n",
      "2022-09-20 19:04:53.990563: I tensorflow/stream_executor/cuda/cuda_gpu_executor.cc:975] successful NUMA node read from SysFS had negative value (-1), but there must be at least one NUMA node, so returning NUMA node zero\n",
      "2022-09-20 19:04:53.992274: I tensorflow/stream_executor/cuda/cuda_gpu_executor.cc:975] successful NUMA node read from SysFS had negative value (-1), but there must be at least one NUMA node, so returning NUMA node zero\n",
      "2022-09-20 19:04:53.994006: I tensorflow/stream_executor/cuda/cuda_gpu_executor.cc:975] successful NUMA node read from SysFS had negative value (-1), but there must be at least one NUMA node, so returning NUMA node zero\n",
      "2022-09-20 19:04:55.411878: I tensorflow/stream_executor/cuda/cuda_gpu_executor.cc:975] successful NUMA node read from SysFS had negative value (-1), but there must be at least one NUMA node, so returning NUMA node zero\n",
      "2022-09-20 19:04:55.413947: I tensorflow/stream_executor/cuda/cuda_gpu_executor.cc:975] successful NUMA node read from SysFS had negative value (-1), but there must be at least one NUMA node, so returning NUMA node zero\n",
      "2022-09-20 19:04:55.415877: I tensorflow/stream_executor/cuda/cuda_gpu_executor.cc:975] successful NUMA node read from SysFS had negative value (-1), but there must be at least one NUMA node, so returning NUMA node zero\n",
      "2022-09-20 19:04:55.417829: I tensorflow/stream_executor/cuda/cuda_gpu_executor.cc:975] successful NUMA node read from SysFS had negative value (-1), but there must be at least one NUMA node, so returning NUMA node zero\n",
      "2022-09-20 19:04:55.419726: I tensorflow/stream_executor/cuda/cuda_gpu_executor.cc:975] successful NUMA node read from SysFS had negative value (-1), but there must be at least one NUMA node, so returning NUMA node zero\n",
      "2022-09-20 19:04:55.421648: I tensorflow/stream_executor/cuda/cuda_gpu_executor.cc:975] successful NUMA node read from SysFS had negative value (-1), but there must be at least one NUMA node, so returning NUMA node zero\n",
      "2022-09-20 19:04:55.423528: I tensorflow/stream_executor/cuda/cuda_gpu_executor.cc:975] successful NUMA node read from SysFS had negative value (-1), but there must be at least one NUMA node, so returning NUMA node zero\n",
      "2022-09-20 19:04:55.425643: I tensorflow/stream_executor/cuda/cuda_gpu_executor.cc:975] successful NUMA node read from SysFS had negative value (-1), but there must be at least one NUMA node, so returning NUMA node zero\n",
      "2022-09-20 19:04:55.427547: I tensorflow/stream_executor/cuda/cuda_gpu_executor.cc:975] successful NUMA node read from SysFS had negative value (-1), but there must be at least one NUMA node, so returning NUMA node zero\n",
      "2022-09-20 19:04:55.429427: I tensorflow/core/common_runtime/gpu/gpu_device.cc:1532] Created device /job:localhost/replica:0/task:0/device:GPU:0 with 43665 MB memory:  -> device: 0, name: NVIDIA A40, pci bus id: 0000:01:00.0, compute capability: 8.6\n",
      "2022-09-20 19:04:55.430005: I tensorflow/stream_executor/cuda/cuda_gpu_executor.cc:975] successful NUMA node read from SysFS had negative value (-1), but there must be at least one NUMA node, so returning NUMA node zero\n",
      "2022-09-20 19:04:55.431711: I tensorflow/core/common_runtime/gpu/gpu_device.cc:1532] Created device /job:localhost/replica:0/task:0/device:GPU:1 with 43665 MB memory:  -> device: 1, name: NVIDIA A40, pci bus id: 0000:02:00.0, compute capability: 8.6\n",
      "2022-09-20 19:04:55.432157: I tensorflow/stream_executor/cuda/cuda_gpu_executor.cc:975] successful NUMA node read from SysFS had negative value (-1), but there must be at least one NUMA node, so returning NUMA node zero\n",
      "2022-09-20 19:04:55.433879: I tensorflow/core/common_runtime/gpu/gpu_device.cc:1532] Created device /job:localhost/replica:0/task:0/device:GPU:2 with 43665 MB memory:  -> device: 2, name: NVIDIA A40, pci bus id: 0000:03:00.0, compute capability: 8.6\n",
      "2022-09-20 19:04:55.434341: I tensorflow/stream_executor/cuda/cuda_gpu_executor.cc:975] successful NUMA node read from SysFS had negative value (-1), but there must be at least one NUMA node, so returning NUMA node zero\n",
      "2022-09-20 19:04:55.436030: I tensorflow/core/common_runtime/gpu/gpu_device.cc:1532] Created device /job:localhost/replica:0/task:0/device:GPU:3 with 43665 MB memory:  -> device: 3, name: NVIDIA A40, pci bus id: 0000:04:00.0, compute capability: 8.6\n"
     ]
    }
   ],
   "source": [
    "import os\n",
    "os.chdir('..')\n",
    "\n",
    "import numpy as np\n",
    "import tensorflow as tf\n",
    "from yolov4.get_bounding_boxes import YoloModel\n",
    "from sparse_coding_torch.utils import VideoGrayScaler, MinMaxScaler\n",
    "import torchvision\n",
    "from sparse_coding_torch.utils import plot_video\n",
    "import tensorflow.keras as keras"
   ]
  },
  {
   "cell_type": "code",
   "execution_count": 2,
   "id": "a86670d5-8a91-4385-b1ef-d2da339fb251",
   "metadata": {},
   "outputs": [
    {
     "name": "stdout",
     "output_type": "stream",
     "text": [
      "Loaded 1078 positive examples.\n",
      "Loaded 2860 negative examples.\n"
     ]
    }
   ],
   "source": [
    "from sparse_coding_torch.onsd.video_loader import FrameLoader\n",
    "\n",
    "video_path = \"/shared_data/bamc_onsd_data/revised_extended_onsd_data/\"\n",
    "transforms = torchvision.transforms.Compose(\n",
    "    [\n",
    "#      MinMaxScaler(0, 255),\n",
    "#      torchvision.transforms.Resize((1000, 1000))\n",
    "    ])\n",
    "\n",
    "dataset = FrameLoader(video_path, 224, 224, transform=None, yolo_model=None)"
   ]
  },
  {
   "cell_type": "code",
   "execution_count": 150,
   "id": "0b3e2771-0ffd-4fc6-b2b9-a1ebf56581a6",
   "metadata": {},
   "outputs": [],
   "source": [
    "import random\n",
    "\n",
    "sample_idx = random.choice(range(len(dataset.get_frames())))"
   ]
  },
  {
   "cell_type": "code",
   "execution_count": 151,
   "id": "ca4d0f7a-a8c3-42c8-a79c-797b04dae194",
   "metadata": {},
   "outputs": [
    {
     "data": {
      "text/plain": [
       "<matplotlib.image.AxesImage at 0x7f6c4c01bdf0>"
      ]
     },
     "execution_count": 151,
     "metadata": {},
     "output_type": "execute_result"
    },
    {
     "data": {
      "image/png": "[encoded data removed]",
      "text/plain": [
       "<Figure size 432x288 with 1 Axes>"
      ]
     },
     "metadata": {
      "needs_background": "light"
     },
     "output_type": "display_data"
    }
   ],
   "source": [
    "from matplotlib.pyplot import imshow\n",
    "\n",
    "frame = dataset.get_frames()[sample_idx].swapaxes(0, 2).swapaxes(0, 1)\n",
    "label = dataset.get_labels()[sample_idx]\n",
    "\n",
    "imshow(frame)"
   ]
  },
  {
   "cell_type": "code",
   "execution_count": 152,
   "id": "7f65d8a9-7332-453f-adf6-4f4361e03b80",
   "metadata": {},
   "outputs": [
    {
     "name": "stdout",
     "output_type": "stream",
     "text": [
      "0.0\n"
     ]
    }
   ],
   "source": [
    "print(label)"
   ]
  },
  {
   "cell_type": "code",
   "execution_count": null,
   "id": "6f1b2c8a-8d98-43a0-a96f-d1ea0a2b4720",
   "metadata": {},
   "outputs": [],
   "source": [
    "# yolo_model = YoloModel('onsd')\n",
    "video_path = \"/shared_data/bamc_onsd_data/revised_extended_onsd_data/\"\n",
    "classifier_model = keras.models.load_model('sparse_coding_torch/onsd/valid_frame_model/best_classifier.pt/')\n",
    "\n",
    "transforms = torchvision.transforms.Compose(\n",
    "    [\n",
    "#      MinMaxScaler(0, 255),\n",
    "     torchvision.transforms.Resize((224, 224))\n",
    "    ])"
   ]
  },
  {
   "cell_type": "code",
   "execution_count": null,
   "id": "3b05ae07-1df0-4e26-9083-86ab5225fab6",
   "metadata": {},
   "outputs": [],
   "source": [
    "from matplotlib.pyplot import imshow\n",
    "from matplotlib import pyplot as plt\n",
    "from matplotlib import cm\n",
    "import math\n",
    "from tqdm import tqdm\n",
    "import glob\n",
    "from os.path import join, abspath\n",
    "\n",
    "labels = [name for name in os.listdir(video_path) if os.path.isdir(os.path.join(video_path, name))]\n",
    "\n",
    "videos = []\n",
    "for label in labels:\n",
    "    videos.extend([(label, abspath(join(video_path, label, f)), f) for f in glob.glob(join(video_path, label, '*', '*.mp4'))])\n",
    "\n",
    "all_widths = []\n",
    "all_colors = []\n",
    "for label, path, vid_f in tqdm(videos):\n",
    "    vc = torchvision.io.read_video(path)[0].permute(3, 0, 1, 2)\n",
    "    \n",
    "    orig_height = vc.size(2)\n",
    "    orig_width = vc.size(3)\n",
    "\n",
    "    all_nerve_widths = []\n",
    "    \n",
    "    for i in range(0, vc.size(1), 10):\n",
    "        frame = vc[:, i, :, :].swapaxes(0, 2).swapaxes(0, 1).numpy()\n",
    "\n",
    "        bounding_boxes, classes, scores = yolo_model.get_bounding_boxes_v5(frame)\n",
    "\n",
    "        nerve_bbs = [bb for bb, class_pred, score in zip(bounding_boxes, classes, scores) if class_pred==0]\n",
    "        \n",
    "        for nerve in nerve_bbs:\n",
    "            width = (nerve[2] - nerve[0]) * orig_width\n",
    "            all_nerve_widths.append(width)\n",
    "            \n",
    "    if not all_nerve_widths:\n",
    "        continue\n",
    "    smallest_width = np.max(np.array(all_nerve_widths))\n",
    "    \n",
    "    all_widths.append(smallest_width)\n",
    "    if label == 'Positives':\n",
    "        all_colors.append('green')\n",
    "    elif label == 'Negatives':\n",
    "        all_colors.append('red')\n",
    "    else:\n",
    "        raise Exception('Bad Label')\n",
    "\n",
    "plt.scatter(all_widths, range(len(all_widths)), color=all_colors)\n",
    "plt.savefig('onsd_nerve_plot.png')"
   ]
  },
  {
   "cell_type": "code",
   "execution_count": null,
   "id": "51427400-238d-4d5a-b139-5d28b2084f9c",
   "metadata": {},
   "outputs": [],
   "source": [
    "from matplotlib.pyplot import imshow\n",
    "from matplotlib import pyplot as plt\n",
    "from matplotlib import cm\n",
    "import math\n",
    "from tqdm import tqdm\n",
    "import glob\n",
    "from os.path import join, abspath\n",
    "\n",
    "labels = [name for name in os.listdir(video_path) if os.path.isdir(os.path.join(video_path, name))]\n",
    "\n",
    "videos = []\n",
    "for label in labels:\n",
    "    videos.extend([(label, abspath(join(video_path, label, f)), f) for f in glob.glob(join(video_path, label, '*', '*.mp4'))])\n",
    "\n",
    "best_frames = {}\n",
    "for label, path, vid_f in tqdm(videos):\n",
    "    vc = torchvision.io.read_video(path)[0].permute(3, 0, 1, 2)\n",
    "    \n",
    "    all_conf = [0] * vc.size(1)\n",
    "    \n",
    "    for i in range(0, vc.size(1)):\n",
    "        frame = vc[:, i, :, :]\n",
    "        \n",
    "        frame = transforms(frame).swapaxes(0, 2).swapaxes(0, 1).numpy()\n",
    "        \n",
    "        frame = np.expand_dims(frame, axis=0)\n",
    "\n",
    "        prepro_frame = tf.keras.applications.densenet.preprocess_input(frame)\n",
    "\n",
    "        pred = classifier_model(prepro_frame)\n",
    "        \n",
    "        pred = tf.math.sigmoid(pred)\n",
    "        \n",
    "        all_conf[i] = pred\n",
    "        \n",
    "    max_idx = np.argmax(np.array(all_conf))\n",
    "    \n",
    "    best_frames[vid_f] = max_idx\n",
    "    print(vid_f)\n",
    "    print(max_idx)\n",
    "    print('----------------------')\n",
    "    \n",
    "print(best_frames)"
   ]
  },
  {
   "cell_type": "code",
   "execution_count": null,
   "id": "f6fa46ac-afc6-41c4-b8e2-2283ed02a4b3",
   "metadata": {},
   "outputs": [],
   "source": []
  }
 ],
 "metadata": {
  "kernelspec": {
   "display_name": "Python (pocus_project)",
   "language": "python",
   "name": "darryl_pocus"
  },
  "language_info": {
   "codemirror_mode": {
    "name": "ipython",
    "version": 3
   },
   "file_extension": ".py",
   "mimetype": "text/x-python",
   "name": "python",
   "nbconvert_exporter": "python",
   "pygments_lexer": "ipython3",
   "version": "3.9.7"
  }
 },
 "nbformat": 4,
 "nbformat_minor": 5
}
