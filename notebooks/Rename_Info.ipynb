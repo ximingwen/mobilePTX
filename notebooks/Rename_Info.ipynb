{
 "cells": [
  {
   "cell_type": "code",
   "execution_count": null,
   "id": "0e3a31e8-ee4f-4e40-a617-779e8cf94c62",
   "metadata": {},
   "outputs": [],
   "source": [
    "from os import listdir\n",
    "from os.path import isfile\n",
    "from os.path import join\n",
    "from os.path import isdir\n",
    "from os.path import abspath\n",
    "\n",
    "#example_data = next(iter(test_loader))\n",
    "import pandas as pd\n",
    "data = pd.read_csv('/shared_data/bamc_data/bamc_video_info.csv')\n",
    "data['names_trimmed'] = data['Filename']\n",
    "\n",
    "for i in range(len(data['Filename'])):\n",
    "    data['names_trimmed'][i] = data['names_trimmed'][i][:-4]\n",
    "    \n",
    "for label in [\"PTX_No_Sliding\", \"PTX_Sliding\"]:\n",
    "    for f in listdir(join(video_path, label)):\n",
    "        if isfile(join(video_path, label, f)):\n",
    "            print(f[:-10])\n",
    "            data['Filename'][data['names_trimmed'] == f[:-10]] = f\n",
    "\n",
    "data = data.drop(columns=['names_trimmed'])\n",
    "data.to_csv('/shared_data/bamc_data/bamc_video_info_corrected.csv', index=False)\n",
    "#    [(label, abspath(join(video_path, label, f)), f) for f in listdir(join(video_path, label)) if isfile(join(video_path, label, f))])"
   ]
  }
 ],
 "metadata": {
  "kernelspec": {
   "display_name": "chris-py3.9.6",
   "language": "python",
   "name": "chris-py3.9.6"
  },
  "language_info": {
   "codemirror_mode": {
    "name": "ipython",
    "version": 3
   },
   "file_extension": ".py",
   "mimetype": "text/x-python",
   "name": "python",
   "nbconvert_exporter": "python",
   "pygments_lexer": "ipython3",
   "version": "3.9.6"
  }
 },
 "nbformat": 4,
 "nbformat_minor": 5
}
