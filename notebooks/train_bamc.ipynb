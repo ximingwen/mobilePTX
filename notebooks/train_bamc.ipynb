{
 "cells": [
  {
   "cell_type": "code",
   "execution_count": 1,
   "id": "39b9c221-6cb2-4708-8654-02d0721e19e5",
   "metadata": {},
   "outputs": [],
   "source": [
    "import time\n",
    "from datetime import datetime\n",
    "import numpy as np\n",
    "import torch\n",
    "import torchvision\n",
    "from matplotlib import pyplot as plt\n",
    "from tqdm import tqdm\n",
    "from sklearn.model_selection import train_test_split\n",
    "import pandas as pd\n",
    "\n",
    "from sparse_coding_torch.conv_sparse_model import ConvSparseLayer\n",
    "from sparse_coding_torch.small_data_classifier import SmallDataClassifier\n",
    "from sparse_coding_torch.utils import plot_filters\n",
    "from sparse_coding_torch.utils import plot_video\n",
    "\n",
    "from sparse_coding_torch.BamcPreprocessor import BamcPreprocessor\n",
    "from sparse_coding_torch.video_loader import MinMaxScaler\n",
    "from sparse_coding_torch.video_loader import VideoGrayScaler\n",
    "from sparse_coding_torch.video_loader import VideoLoader\n",
    "from sparse_coding_torch.video_loader import VideoClipLoader\n",
    "\n",
    "from sparse_coding_torch.load_data import load_bamc_data\n",
    "\n",
    "from IPython.display import HTML"
   ]
  },
  {
   "cell_type": "code",
   "execution_count": 2,
   "id": "0112f602-733e-4ac5-aa6e-b35e021eb21f",
   "metadata": {},
   "outputs": [],
   "source": [
    "# Get the devices available and set the batch size\n",
    "device = torch.device(\"cuda:1\" if torch.cuda.is_available() else \"cpu\")\n",
    "if device == \"cpu\":\n",
    "    batch_size = 1\n",
    "else:\n",
    "    batch_size = 4*8\n",
    "    # batch_size = 3"
   ]
  },
  {
   "cell_type": "code",
   "execution_count": null,
   "id": "a94bec2d-73df-434a-b930-61569ce4b54e",
   "metadata": {},
   "outputs": [
    {
     "data": {
      "application/vnd.jupyter.widget-view+json": {
       "model_id": "ada15311cf464716a878f3e07d4ba446",
       "version_major": 2,
       "version_minor": 0
      },
      "text/plain": [
       "  0%|          | 0/4 [00:00<?, ?it/s]"
      ]
     },
     "metadata": {},
     "output_type": "display_data"
    },
    {
     "name": "stderr",
     "output_type": "stream",
     "text": [
      "  3%|▎         | 101/3534 [00:36<20:21,  2.81it/s]"
     ]
    }
   ],
   "source": [
    "# batch_size = 62\n",
    "# video_path = \"/shared_data/bamc_data\"\n",
    "video_path = \"/shared_data/bamc_data_scale_cropped\"\n",
    "\n",
    "# scaled and cropped video size is 400x700\n",
    "transforms = torchvision.transforms.Compose([VideoGrayScaler(),\n",
    "                                             MinMaxScaler(0, 255),\n",
    "                                             # BamcPreprocessor(),\n",
    "                                             # torchvision.transforms.Resize(size=(172, 300))\n",
    "                                            ])\n",
    "dataset = VideoClipLoader(video_path, transform=transforms, \n",
    "                          frames_between_clips=1,\n",
    "                          num_frames=4\n",
    "                          # num_frames=60\n",
    "                         )\n",
    "\n",
    "targets = dataset.get_labels()\n",
    "data_loader = torch.utils.data.DataLoader(dataset, batch_size=batch_size,\n",
    "                                              shuffle=True)"
   ]
  },
  {
   "cell_type": "code",
   "execution_count": null,
   "id": "bc94c987-84fd-4aa1-b70c-18cfae0396b2",
   "metadata": {},
   "outputs": [],
   "source": [
    "dataset[0][1].shape"
   ]
  },
  {
   "cell_type": "code",
   "execution_count": null,
   "id": "5308f390-33fd-4a65-9134-196f39ab8de2",
   "metadata": {},
   "outputs": [],
   "source": [
    "example_data = next(iter(data_loader))\n",
    "example_data[1].shape\n",
    "ani = plot_video(example_data[1][2])\n",
    "HTML(ani.to_html5_video())"
   ]
  },
  {
   "cell_type": "code",
   "execution_count": null,
   "id": "36faf0b5-3220-41ff-99a8-67653b829edb",
   "metadata": {},
   "outputs": [],
   "source": [
    "sparse_layer = ConvSparseLayer(in_channels=1,\n",
    "                               out_channels=64,\n",
    "                               kernel_size=(4, 16, 16),\n",
    "                               stride=2,\n",
    "                               padding=0,\n",
    "                               convo_dim=3,\n",
    "                               rectifier=True,\n",
    "                               lam=0.01,\n",
    "                               max_activation_iter=200,\n",
    "                               activation_lr=1e-2)\n",
    "model = sparse_layer\n",
    "model = torch.nn.DataParallel(model, device_ids=[1, 0, 2, 3])\n",
    "model.to(device)\n",
    "\n",
    "learning_rate = 3e-4\n",
    "optimizer = torch.optim.Adam(sparse_layer.parameters(),\n",
    "                                    lr=learning_rate)\n",
    "\n",
    "criterion = torch.nn.BCEWithLogitsLoss()"
   ]
  },
  {
   "cell_type": "code",
   "execution_count": null,
   "id": "d7528f2d-58a1-42b0-98e9-016727d16f1c",
   "metadata": {},
   "outputs": [],
   "source": [
    "loss_log = []\n",
    "\n",
    "for epoch in tqdm(range(500)):\n",
    "    epoch_loss = 0\n",
    "    # for local_batch in train_loader:\n",
    "    for labels, local_batch, filenames in data_loader:\n",
    "        local_batch = local_batch.to(device)\n",
    "\n",
    "        activations = model(local_batch)\n",
    "        loss = sparse_layer.loss(local_batch, activations)\n",
    "        epoch_loss += loss.item() * local_batch.size(0)\n",
    "\n",
    "        optimizer.zero_grad()\n",
    "        loss.backward()\n",
    "        optimizer.step()\n",
    "        sparse_layer.normalize_weights()\n",
    "      \n",
    "    epoch_loss /= len(data_loader.sampler)"
   ]
  },
  {
   "cell_type": "code",
   "execution_count": null,
   "id": "4dfe96c0-c8c3-4017-92b5-23d37d0df857",
   "metadata": {},
   "outputs": [],
   "source": [
    "plt.plot(loss_log)"
   ]
  },
  {
   "cell_type": "code",
   "execution_count": null,
   "id": "cb7207c8-fc42-4216-8d81-97918336a845",
   "metadata": {},
   "outputs": [],
   "source": [
    "ani = plot_filters(sparse_layer.filters.cpu().detach())\n",
    "HTML(ani.to_html5_video())"
   ]
  },
  {
   "cell_type": "code",
   "execution_count": null,
   "id": "70524d20-7e2a-449c-bacc-172e5858990f",
   "metadata": {},
   "outputs": [],
   "source": [
    "torch.save({'model_state_dict': model.module.state_dict(),\n",
    "            'optimizer_state_dict': optimizer.state_dict(),},\n",
    "           datetime.now().strftime(\"saved_models/sparse_conv3d_model-best.pt\"))"
   ]
  }
 ],
 "metadata": {
  "kernelspec": {
   "display_name": "chris-py3.9.6",
   "language": "python",
   "name": "chris-py3.9.6"
  },
  "language_info": {
   "codemirror_mode": {
    "name": "ipython",
    "version": 3
   },
   "file_extension": ".py",
   "mimetype": "text/x-python",
   "name": "python",
   "nbconvert_exporter": "python",
   "pygments_lexer": "ipython3",
   "version": "3.9.6"
  }
 },
 "nbformat": 4,
 "nbformat_minor": 5
}
