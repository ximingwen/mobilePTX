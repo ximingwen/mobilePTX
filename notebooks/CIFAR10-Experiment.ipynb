{
 "cells": [
  {
   "cell_type": "code",
   "execution_count": 1,
   "id": "0a6fc228-ca57-42ab-9568-99c6dafd42d8",
   "metadata": {},
   "outputs": [],
   "source": [
    "from sparse_coding_torch.video_loader import YoloClipLoader\n",
    "from sparse_coding_torch.utils import plot_video\n",
    "from sparse_coding_torch.utils import plot_filters\n",
    "from sparse_coding_torch.video_loader import VideoGrayScaler\n",
    "from IPython.display import HTML\n",
    "import torchvision\n",
    "import torch\n",
    "from tqdm import tqdm\n",
    "from matplotlib import pyplot as plt\n",
    "\n",
    "from sparse_coding_torch.conv_sparse_model import ConvSparseLayer"
   ]
  },
  {
   "cell_type": "code",
   "execution_count": 2,
   "id": "a08ef8b0-2445-4c5e-b21b-4490071a6c3b",
   "metadata": {},
   "outputs": [],
   "source": [
    "# Get the devices available and set the batch size\n",
    "device = torch.device(\"cuda:1\" if torch.cuda.is_available() else \"cpu\")\n",
    "if device == \"cpu\":\n",
    "    batch_size = 1\n",
    "else:\n",
    "    batch_size = 4*128\n",
    "    # batch_size=128\n",
    "    # batch_size = 3"
   ]
  },
  {
   "cell_type": "code",
   "execution_count": 3,
   "id": "d7aba5de-4f90-4044-b58c-022d58cfd14c",
   "metadata": {},
   "outputs": [],
   "source": [
    "transform = torchvision.transforms.Compose(\n",
    "    [torchvision.transforms.ToTensor(),\n",
    "     # torchvision.transforms.Normalize((0.4914, 0.4822, 0.4465), (0.247, 0.243, 0.261))\n",
    "     torchvision.transforms.Grayscale(),\n",
    "     torchvision.transforms.Normalize((0.4808,), (0.2392,))\n",
    "    ])"
   ]
  },
  {
   "cell_type": "code",
   "execution_count": 4,
   "id": "b9691ad8-ac9a-4017-aa4c-1cc7265e17cc",
   "metadata": {},
   "outputs": [
    {
     "name": "stdout",
     "output_type": "stream",
     "text": [
      "Files already downloaded and verified\n"
     ]
    }
   ],
   "source": [
    "trainset = torchvision.datasets.CIFAR10(root='./data', train=True,\n",
    "                                        download=True, transform=transform)\n",
    "data_loader = torch.utils.data.DataLoader(trainset, batch_size=batch_size,\n",
    "                                          shuffle=True, num_workers=2)"
   ]
  },
  {
   "cell_type": "code",
   "execution_count": 5,
   "id": "c750cb95-05d2-4818-8c5e-6d280cfea37a",
   "metadata": {},
   "outputs": [],
   "source": [
    "#x = torch.stack([trainset[i][0] for i in range(len(trainset))])"
   ]
  },
  {
   "cell_type": "code",
   "execution_count": 6,
   "id": "3f999816-4ea0-43ea-afd0-eea6a854c693",
   "metadata": {},
   "outputs": [],
   "source": [
    "#x.std()"
   ]
  },
  {
   "cell_type": "code",
   "execution_count": 13,
   "id": "6f63b2b1-84ab-4bc6-ab1f-8d6696905911",
   "metadata": {},
   "outputs": [],
   "source": [
    "sparse_layer = ConvSparseLayer(in_channels=1,\n",
    "                               out_channels=16,\n",
    "                               kernel_size=(1, 15, 15),\n",
    "                               stride=1,\n",
    "                               padding=(0, 7, 7),\n",
    "                               convo_dim=3,\n",
    "                               rectifier=True,\n",
    "                               leaky=False,\n",
    "                               lam=0.05,\n",
    "                               max_activation_iter=1000,\n",
    "                               activation_lr=1e-2)\n",
    "model = sparse_layer\n",
    "model = torch.nn.DataParallel(model, device_ids=[1, 0, 2, 3])\n",
    "model.to(device)\n",
    "\n",
    "#optimizer = torch.optim.Adam(sparse_layer.parameters(),\n",
    "#                             lr=5.0e-04, amsgrad=True)\n",
    "optimizer = torch.optim.SGD(sparse_layer.parameters(),\n",
    "#                            momentum=0.9,\n",
    "                            lr=5.0e-01)\n",
    "# scheduler = torch.optim.lr_scheduler.OneCycleLR(optimizer, max_lr=5e-4, steps_per_epoch=len(data_loader), epochs=3)"
   ]
  },
  {
   "cell_type": "code",
   "execution_count": 15,
   "id": "6ff4f876-6c75-4dff-9916-83a1e6799366",
   "metadata": {},
   "outputs": [],
   "source": [
    "# sparse_layer.max_activation_iter=200"
   ]
  },
  {
   "cell_type": "code",
   "execution_count": 14,
   "id": "5dc36f1e-901e-48cb-809e-e4b10f5ba357",
   "metadata": {},
   "outputs": [],
   "source": [
    "best = float('inf')\n",
    "loss_log = []"
   ]
  },
  {
   "cell_type": "code",
   "execution_count": 17,
   "id": "93b2e718-facb-439c-af15-0086be54f309",
   "metadata": {},
   "outputs": [
    {
     "name": "stderr",
     "output_type": "stream",
     "text": [
      " 33%|███▎      | 1/3 [03:14<06:28, 194.30s/it]"
     ]
    },
    {
     "name": "stdout",
     "output_type": "stream",
     "text": [
      "Epoch Loss: 10.60625310333252; Percent active: 0.08854718505859376\n"
     ]
    },
    {
     "name": "stderr",
     "output_type": "stream",
     "text": [
      " 67%|██████▋   | 2/3 [06:26<03:13, 193.13s/it]"
     ]
    },
    {
     "name": "stdout",
     "output_type": "stream",
     "text": [
      "Epoch Loss: 10.034706758728028; Percent active: 0.08776911010742187\n"
     ]
    },
    {
     "name": "stderr",
     "output_type": "stream",
     "text": [
      "100%|██████████| 3/3 [09:39<00:00, 193.25s/it]"
     ]
    },
    {
     "name": "stdout",
     "output_type": "stream",
     "text": [
      "Epoch Loss: 10.006295091552735; Percent active: 0.08787585083007812\n"
     ]
    },
    {
     "name": "stderr",
     "output_type": "stream",
     "text": [
      "\n"
     ]
    }
   ],
   "source": [
    "for epoch in tqdm(range(3)):\n",
    "    act_sum = None\n",
    "    epoch_loss = 0\n",
    "    act_num = 0\n",
    "    act_denom = 0\n",
    "    # for local_batch in train_loader:\n",
    "    for local_batch, labels in data_loader:\n",
    "        local_batch = local_batch.to(device)\n",
    "        local_batch = local_batch.unsqueeze(1)\n",
    "\n",
    "        # activations, inner_loss = model(local_batch)\n",
    "        \n",
    "        activations = model(local_batch)\n",
    "        act_num += len(activations[activations>0])\n",
    "        act_denom += len(activations.flatten())\n",
    "\n",
    "        # print(\"Percent Activation: {}\".format(len(activations[activations>0])/len(activations.flatten())))\n",
    "\n",
    "        loss = sparse_layer.loss(local_batch, activations)\n",
    "        epoch_loss += loss.item() * local_batch.size(0)\n",
    "\n",
    "        optimizer.zero_grad()\n",
    "        loss.backward()\n",
    "        optimizer.step()\n",
    "        # scheduler.step()\n",
    "        sparse_layer.normalize_weights()\n",
    "        # break\n",
    "\n",
    "    # plt.plot(inner_loss)\n",
    "    # scheduler.step()\n",
    "    epoch_loss /= len(data_loader.sampler)\n",
    "    loss_log.append(epoch_loss)\n",
    "    print(\"Epoch Loss: {}; Percent active: {}\".format(epoch_loss, act_num / act_denom))"
   ]
  },
  {
   "cell_type": "code",
   "execution_count": 16,
   "id": "03702836-2e71-4b2d-92b3-438be0a03e40",
   "metadata": {},
   "outputs": [
    {
     "data": {
      "text/plain": [
       "12.75"
      ]
     },
     "execution_count": 16,
     "metadata": {},
     "output_type": "execute_result"
    }
   ],
   "source": [
    "12.75"
   ]
  },
  {
   "cell_type": "code",
   "execution_count": 10,
   "id": "75c042b0-63c3-4a71-99f2-e9082b4b4174",
   "metadata": {},
   "outputs": [
    {
     "ename": "NameError",
     "evalue": "name 'inner_loss' is not defined",
     "output_type": "error",
     "traceback": [
      "\u001b[0;31m---------------------------------------------------------------------------\u001b[0m",
      "\u001b[0;31mNameError\u001b[0m                                 Traceback (most recent call last)",
      "\u001b[0;32m/tmp/ipykernel_1452789/1493504713.py\u001b[0m in \u001b[0;36m<module>\u001b[0;34m\u001b[0m\n\u001b[1;32m      1\u001b[0m \u001b[0msize\u001b[0m \u001b[0;34m=\u001b[0m \u001b[0msparse_layer\u001b[0m\u001b[0;34m.\u001b[0m\u001b[0mmax_activation_iter\u001b[0m\u001b[0;34m\u001b[0m\u001b[0;34m\u001b[0m\u001b[0m\n\u001b[0;32m----> 2\u001b[0;31m \u001b[0mplt\u001b[0m\u001b[0;34m.\u001b[0m\u001b[0mplot\u001b[0m\u001b[0;34m(\u001b[0m\u001b[0minner_loss\u001b[0m\u001b[0;34m[\u001b[0m\u001b[0;34m:\u001b[0m\u001b[0msize\u001b[0m\u001b[0;34m]\u001b[0m\u001b[0;34m)\u001b[0m\u001b[0;34m\u001b[0m\u001b[0;34m\u001b[0m\u001b[0m\n\u001b[0m\u001b[1;32m      3\u001b[0m \u001b[0mprint\u001b[0m\u001b[0;34m(\u001b[0m\u001b[0minner_loss\u001b[0m\u001b[0;34m[\u001b[0m\u001b[0msize\u001b[0m\u001b[0;34m]\u001b[0m\u001b[0;34m)\u001b[0m\u001b[0;34m\u001b[0m\u001b[0;34m\u001b[0m\u001b[0m\n\u001b[1;32m      4\u001b[0m \u001b[0mplt\u001b[0m\u001b[0;34m.\u001b[0m\u001b[0mplot\u001b[0m\u001b[0;34m(\u001b[0m\u001b[0minner_loss\u001b[0m\u001b[0;34m[\u001b[0m\u001b[0;34m-\u001b[0m\u001b[0msize\u001b[0m\u001b[0;34m:\u001b[0m\u001b[0;34m]\u001b[0m\u001b[0;34m)\u001b[0m\u001b[0;34m\u001b[0m\u001b[0;34m\u001b[0m\u001b[0m\n\u001b[1;32m      5\u001b[0m \u001b[0mprint\u001b[0m\u001b[0;34m(\u001b[0m\u001b[0minner_loss\u001b[0m\u001b[0;34m[\u001b[0m\u001b[0;34m-\u001b[0m\u001b[0;36m1\u001b[0m\u001b[0;34m]\u001b[0m\u001b[0;34m)\u001b[0m\u001b[0;34m\u001b[0m\u001b[0;34m\u001b[0m\u001b[0m\n",
      "\u001b[0;31mNameError\u001b[0m: name 'inner_loss' is not defined"
     ]
    }
   ],
   "source": [
    "size = sparse_layer.max_activation_iter\n",
    "plt.plot(inner_loss[:size])\n",
    "print(inner_loss[size])\n",
    "plt.plot(inner_loss[-size:])\n",
    "print(inner_loss[-1])"
   ]
  },
  {
   "cell_type": "code",
   "execution_count": 11,
   "id": "a1b82ac8-3b8b-43e0-b346-479f6cef6e88",
   "metadata": {},
   "outputs": [
    {
     "ename": "NameError",
     "evalue": "name 'inner_loss' is not defined",
     "output_type": "error",
     "traceback": [
      "\u001b[0;31m---------------------------------------------------------------------------\u001b[0m",
      "\u001b[0;31mNameError\u001b[0m                                 Traceback (most recent call last)",
      "\u001b[0;32m/tmp/ipykernel_1452789/3795481271.py\u001b[0m in \u001b[0;36m<module>\u001b[0;34m\u001b[0m\n\u001b[0;32m----> 1\u001b[0;31m \u001b[0mplt\u001b[0m\u001b[0;34m.\u001b[0m\u001b[0mplot\u001b[0m\u001b[0;34m(\u001b[0m\u001b[0minner_loss\u001b[0m\u001b[0;34m[\u001b[0m\u001b[0msize\u001b[0m\u001b[0;34m-\u001b[0m\u001b[0;36m40\u001b[0m\u001b[0;34m:\u001b[0m\u001b[0msize\u001b[0m\u001b[0;34m]\u001b[0m\u001b[0;34m)\u001b[0m\u001b[0;34m\u001b[0m\u001b[0;34m\u001b[0m\u001b[0m\n\u001b[0m\u001b[1;32m      2\u001b[0m \u001b[0mplt\u001b[0m\u001b[0;34m.\u001b[0m\u001b[0mplot\u001b[0m\u001b[0;34m(\u001b[0m\u001b[0minner_loss\u001b[0m\u001b[0;34m[\u001b[0m\u001b[0;34m-\u001b[0m\u001b[0;36m40\u001b[0m\u001b[0;34m:\u001b[0m\u001b[0;34m]\u001b[0m\u001b[0;34m)\u001b[0m\u001b[0;34m\u001b[0m\u001b[0;34m\u001b[0m\u001b[0m\n",
      "\u001b[0;31mNameError\u001b[0m: name 'inner_loss' is not defined"
     ]
    }
   ],
   "source": [
    "plt.plot(inner_loss[size-40:size])\n",
    "plt.plot(inner_loss[-40:])"
   ]
  },
  {
   "cell_type": "code",
   "execution_count": 18,
   "id": "20e05a6e-992d-4f55-a183-4a7fecbcb13d",
   "metadata": {},
   "outputs": [
    {
     "data": {
      "text/plain": [
       "<matplotlib.animation.FuncAnimation at 0x7f2cc21a3a00>"
      ]
     },
     "execution_count": 18,
     "metadata": {},
     "output_type": "execute_result"
    },
    {
     "data": {
      "image/png": "[encoded data removed]",
      "text/plain": [
       "<Figure size 576x576 with 16 Axes>"
      ]
     },
     "metadata": {
      "needs_background": "light"
     },
     "output_type": "display_data"
    }
   ],
   "source": [
    "plot_filters(sparse_layer.filters.cpu().detach())"
   ]
  },
  {
   "cell_type": "code",
   "execution_count": 138,
   "id": "cf9cb0ad-bff2-4a8a-a870-d59408bda723",
   "metadata": {},
   "outputs": [
    {
     "data": {
      "text/plain": [
       "<matplotlib.image.AxesImage at 0x7fbe79dad700>"
      ]
     },
     "execution_count": 138,
     "metadata": {},
     "output_type": "execute_result"
    },
    {
     "data": {
      "image/png": "[encoded data removed]",
      "text/plain": [
       "<Figure size 432x288 with 1 Axes>"
      ]
     },
     "metadata": {
      "needs_background": "light"
     },
     "output_type": "display_data"
    }
   ],
   "source": [
    "from matplotlib import cm\n",
    "v = trainset[600][0].squeeze()\n",
    "plt.imshow(v, cmap=cm.Greys_r)"
   ]
  },
  {
   "cell_type": "code",
   "execution_count": 139,
   "id": "755e44a9-c621-4ed2-9b40-66a0aafce901",
   "metadata": {},
   "outputs": [
    {
     "data": {
      "text/plain": [
       "<matplotlib.image.AxesImage at 0x7fbe79d12760>"
      ]
     },
     "execution_count": 139,
     "metadata": {},
     "output_type": "execute_result"
    },
    {
     "data": {
      "image/png": "[encoded data removed]",
      "text/plain": [
       "<Figure size 432x288 with 1 Axes>"
      ]
     },
     "metadata": {
      "needs_background": "light"
     },
     "output_type": "display_data"
    }
   ],
   "source": [
    "act = model(v.unsqueeze(0).unsqueeze(0).unsqueeze(0).to('cuda:1'))\n",
    "recon = sparse_layer.reconstructions(act).squeeze().cpu().detach().numpy()\n",
    "plt.clf()\n",
    "plt.imshow(recon, cmap=cm.Greys_r)"
   ]
  },
  {
   "cell_type": "code",
   "execution_count": 140,
   "id": "601a4b1a-c047-47f5-a986-0471b437df39",
   "metadata": {},
   "outputs": [
    {
     "data": {
      "text/plain": [
       "<matplotlib.image.AxesImage at 0x7fbea0abafa0>"
      ]
     },
     "execution_count": 140,
     "metadata": {},
     "output_type": "execute_result"
    },
    {
     "data": {
      "image/png": "[encoded data removed]",
      "text/plain": [
       "<Figure size 432x288 with 1 Axes>"
      ]
     },
     "metadata": {
      "needs_background": "light"
     },
     "output_type": "display_data"
    }
   ],
   "source": [
    "plt.imshow(abs(v - recon))"
   ]
  },
  {
   "cell_type": "code",
   "execution_count": 99,
   "id": "73f4f788-e946-4a44-8c31-c4e5eb2bafd9",
   "metadata": {},
   "outputs": [
    {
     "data": {
      "text/plain": [
       "(array([462., 158.,  86.,  74.,  34.,  32.,  26.,  15.,  13.,  14.,   9.,\n",
       "          8.,  10.,   8.,   8.,   8.,   4.,   5.,   1.,   1.,   3.,   3.,\n",
       "          0.,   2.,   0.,   1.,   3.,   2.,   2.,   1.,   3.,   2.,   2.,\n",
       "          4.,   0.,   0.,   3.,   0.,   1.,   0.,   2.,   0.,   0.,   0.,\n",
       "          1.,   1.,   0.,   0.,   0.,   0.,   1.,   0.,   0.,   2.,   0.,\n",
       "          0.,   0.,   1.,   0.,   0.,   0.,   0.,   0.,   0.,   1.,   1.,\n",
       "          0.,   0.,   0.,   0.,   0.,   0.,   2.,   1.,   0.,   0.,   0.,\n",
       "          0.,   0.,   0.,   0.,   1.,   0.,   0.,   0.,   0.,   0.,   0.,\n",
       "          0.,   0.,   0.,   0.,   0.,   0.,   0.,   0.,   1.,   0.,   0.,\n",
       "          1.]),\n",
       " array([9.82950610e-10, 2.05533546e-04, 4.11066110e-04, 6.16598673e-04,\n",
       "        8.22131236e-04, 1.02766380e-03, 1.23319636e-03, 1.43872893e-03,\n",
       "        1.64426149e-03, 1.84979405e-03, 2.05532662e-03, 2.26085918e-03,\n",
       "        2.46639174e-03, 2.67192431e-03, 2.87745687e-03, 3.08298943e-03,\n",
       "        3.28852200e-03, 3.49405456e-03, 3.69958712e-03, 3.90511969e-03,\n",
       "        4.11065225e-03, 4.31618481e-03, 4.52171738e-03, 4.72724994e-03,\n",
       "        4.93278250e-03, 5.13831507e-03, 5.34384763e-03, 5.54938019e-03,\n",
       "        5.75491276e-03, 5.96044532e-03, 6.16597788e-03, 6.37151045e-03,\n",
       "        6.57704301e-03, 6.78257557e-03, 6.98810814e-03, 7.19364070e-03,\n",
       "        7.39917326e-03, 7.60470583e-03, 7.81023839e-03, 8.01577095e-03,\n",
       "        8.22130352e-03, 8.42683608e-03, 8.63236864e-03, 8.83790121e-03,\n",
       "        9.04343377e-03, 9.24896633e-03, 9.45449890e-03, 9.66003146e-03,\n",
       "        9.86556402e-03, 1.00710966e-02, 1.02766291e-02, 1.04821617e-02,\n",
       "        1.06876943e-02, 1.08932268e-02, 1.10987594e-02, 1.13042920e-02,\n",
       "        1.15098245e-02, 1.17153571e-02, 1.19208897e-02, 1.21264222e-02,\n",
       "        1.23319548e-02, 1.25374873e-02, 1.27430199e-02, 1.29485525e-02,\n",
       "        1.31540850e-02, 1.33596176e-02, 1.35651502e-02, 1.37706827e-02,\n",
       "        1.39762153e-02, 1.41817479e-02, 1.43872804e-02, 1.45928130e-02,\n",
       "        1.47983455e-02, 1.50038781e-02, 1.52094107e-02, 1.54149432e-02,\n",
       "        1.56204758e-02, 1.58260084e-02, 1.60315409e-02, 1.62370735e-02,\n",
       "        1.64426060e-02, 1.66481386e-02, 1.68536712e-02, 1.70592037e-02,\n",
       "        1.72647363e-02, 1.74702689e-02, 1.76758014e-02, 1.78813340e-02,\n",
       "        1.80868666e-02, 1.82923991e-02, 1.84979317e-02, 1.87034642e-02,\n",
       "        1.89089968e-02, 1.91145294e-02, 1.93200619e-02, 1.95255945e-02,\n",
       "        1.97311271e-02, 1.99366596e-02, 2.01421922e-02, 2.03477248e-02,\n",
       "        2.05532573e-02]),\n",
       " <BarContainer object of 100 artists>)"
      ]
     },
     "execution_count": 99,
     "metadata": {},
     "output_type": "execute_result"
    },
    {
     "data": {
      "image/png": "[encoded data removed]",
      "text/plain": [
       "<Figure size 432x288 with 1 Axes>"
      ]
     },
     "metadata": {
      "needs_background": "light"
     },
     "output_type": "display_data"
    }
   ],
   "source": [
    "plt.hist(list(e.item() for e in torch.pow((v - recon), 2).flatten()), bins=100)"
   ]
  },
  {
   "cell_type": "code",
   "execution_count": 100,
   "id": "b46f337b-6689-4f54-9d73-bd965789e937",
   "metadata": {},
   "outputs": [
    {
     "data": {
      "text/plain": [
       "tensor(0.0206)"
      ]
     },
     "execution_count": 100,
     "metadata": {},
     "output_type": "execute_result"
    }
   ],
   "source": [
    "torch.max(torch.pow(v-recon,2))"
   ]
  },
  {
   "cell_type": "code",
   "execution_count": null,
   "id": "034d17cb-1429-4db6-a272-febf75d2b457",
   "metadata": {},
   "outputs": [],
   "source": []
  },
  {
   "cell_type": "code",
   "execution_count": null,
   "id": "60a709c0-8a5c-4083-8400-1430162adabc",
   "metadata": {},
   "outputs": [],
   "source": []
  }
 ],
 "metadata": {
  "kernelspec": {
   "display_name": "chris-py3.9.6",
   "language": "python",
   "name": "chris-py3.9.6"
  },
  "language_info": {
   "codemirror_mode": {
    "name": "ipython",
    "version": 3
   },
   "file_extension": ".py",
   "mimetype": "text/x-python",
   "name": "python",
   "nbconvert_exporter": "python",
   "pygments_lexer": "ipython3",
   "version": "3.9.6"
  }
 },
 "nbformat": 4,
 "nbformat_minor": 5
}
