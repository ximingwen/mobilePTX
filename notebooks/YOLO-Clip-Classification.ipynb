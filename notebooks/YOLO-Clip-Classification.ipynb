{
 "cells": [
  {
   "cell_type": "code",
   "execution_count": 1,
   "id": "6364c814-44d7-4f7a-bbba-18b08fe83c65",
   "metadata": {},
   "outputs": [],
   "source": [
    "from sparse_coding_torch.video_loader import YoloClipLoader\n",
    "from sparse_coding_torch.utils import plot_video\n",
    "from sparse_coding_torch.utils import plot_filters\n",
    "from sparse_coding_torch.video_loader import VideoGrayScaler\n",
    "from IPython.display import HTML\n",
    "import torchvision\n",
    "import torch\n",
    "from tqdm import tqdm\n",
    "from matplotlib import pyplot as plt\n",
    "\n",
    "from sparse_coding_torch.conv_sparse_model import ConvSparseLayer"
   ]
  },
  {
   "cell_type": "code",
   "execution_count": 2,
   "id": "fe56a34f-5be4-4e1b-8033-7d90260870c1",
   "metadata": {},
   "outputs": [],
   "source": [
    "video_path = \"/shared_data/bamc_data_scale_cropped\"\n",
    "yolo_output_path = \"/shared_data/YOLO_Updated_PL_Model_Results\""
   ]
  },
  {
   "cell_type": "code",
   "execution_count": 3,
   "id": "de9a134c-babb-4398-b3c6-7776d11391e4",
   "metadata": {},
   "outputs": [],
   "source": [
    "pre_transform = transforms = torchvision.transforms.Compose(\n",
    "    [VideoGrayScaler(),\n",
    "     torchvision.transforms.Normalize((0.2592,), (0.1251,)),\n",
    "     # torchvision.transforms.CenterCrop((100, 200))\n",
    "    ])"
   ]
  },
  {
   "cell_type": "code",
   "execution_count": 4,
   "id": "d310377a-07ef-41cf-9701-daef3728e10a",
   "metadata": {},
   "outputs": [],
   "source": [
    "post_transform = torchvision.transforms.Compose(\n",
    "    [torchvision.transforms.RandomRotation(45),\n",
    "     torchvision.transforms.RandomHorizontalFlip(),\n",
    "     # torchvision.transforms.RandomCrop(150, 250)\n",
    "     torchvision.transforms.CenterCrop((100, 200))\n",
    "    ])"
   ]
  },
  {
   "cell_type": "code",
   "execution_count": 5,
   "id": "72230ec4-7693-436d-b3df-df06b43aee16",
   "metadata": {},
   "outputs": [
    {
     "name": "stdout",
     "output_type": "stream",
     "text": [
      "Processing videos in category: Sliding\n"
     ]
    },
    {
     "name": "stderr",
     "output_type": "stream",
     "text": [
      "100%|██████████| 32/32 [28:59<00:00, 54.37s/it]\n"
     ]
    },
    {
     "name": "stdout",
     "output_type": "stream",
     "text": [
      "Processing videos in category: No_Sliding\n"
     ]
    },
    {
     "name": "stderr",
     "output_type": "stream",
     "text": [
      "100%|██████████| 30/30 [26:03<00:00, 52.13s/it]\n"
     ]
    }
   ],
   "source": [
    "dataset = YoloClipLoader(yolo_output_path, num_frames=5, frames_between_clips=1, pre_transform=pre_transform, post_transform=post_transform)"
   ]
  },
  {
   "cell_type": "code",
   "execution_count": 6,
   "id": "b1b48b11-fe48-49ba-9a4b-128914de0e5b",
   "metadata": {},
   "outputs": [],
   "source": [
    "# pickle the dataset\n",
    "#import pickle\n",
    "#with open('saved_models/yolo_clips2.pickle', 'wb') as handle:\n",
    "#    pickle.dump(dataset, handle, protocol=pickle.HIGHEST_PROTOCOL)"
   ]
  },
  {
   "cell_type": "code",
   "execution_count": 5,
   "id": "6dea5dc1-9f3a-4bc0-8e82-f5fb7c812f57",
   "metadata": {},
   "outputs": [],
   "source": [
    "import pickle\n",
    "\n",
    "# load the pickled dataset\n",
    "with open('saved_models/yolo_clips2.pickle', 'rb') as handle:\n",
    "    dataset = pickle.load(handle)"
   ]
  },
  {
   "cell_type": "code",
   "execution_count": null,
   "id": "0e3a48fa-ba1d-45be-9f92-9a3051bef1e2",
   "metadata": {},
   "outputs": [],
   "source": []
  },
  {
   "cell_type": "code",
   "execution_count": null,
   "id": "cd94c1e2-bcca-4128-aff0-58da82d8fe25",
   "metadata": {},
   "outputs": [],
   "source": [
    "# To export the clips into video files\n",
    "from pathlib import Path\n",
    "\n",
    "vmin = float('inf')\n",
    "vmax = float('-inf')\n",
    "for i in range(len(dataset)):\n",
    "    if dataset[i][1].min() < vmin:\n",
    "        vmin = dataset[i][1].min()\n",
    "    if dataset[i][1].max() > vmax:\n",
    "        vmax = dataset[i][1].max()\n",
    "\n",
    "for i in range(len(dataset)):\n",
    "    label, video, filename = dataset[i]\n",
    "    path = \"clips/{}/\".format(label)\n",
    "    Path(path).mkdir(parents=True, exist_ok=True)\n",
    "    \n",
    "    video = (video.permute(1, 2, 3, 0) - vmin) / (vmax - vmin) * 255\n",
    "    video = video.repeat(1, 1, 1, 3)\n",
    "    \n",
    "    torchvision.io.write_video(path + filename + str(i) + \".mp4\", video, fps=20)\n",
    "    # torchvision.io.write_video(video\n",
    "    # print(filename)\n",
    "    #break"
   ]
  },
  {
   "cell_type": "code",
   "execution_count": null,
   "id": "3d28f85b-d4ee-4cef-8e29-45f85e3613c3",
   "metadata": {},
   "outputs": [],
   "source": [
    "dataset[0][1].shape"
   ]
  },
  {
   "cell_type": "code",
   "execution_count": null,
   "id": "e87533bd-0643-487c-b4fd-3f40246ab5bc",
   "metadata": {},
   "outputs": [],
   "source": [
    "len(dataset)"
   ]
  },
  {
   "cell_type": "code",
   "execution_count": null,
   "id": "f7770e8d-1aac-4810-9b74-d88659c905a8",
   "metadata": {},
   "outputs": [],
   "source": [
    "x = torch.stack([dataset[i][1] for i in range(len(dataset))])"
   ]
  },
  {
   "cell_type": "code",
   "execution_count": null,
   "id": "05d2b1f3-4b53-4a96-b384-de86850e0468",
   "metadata": {},
   "outputs": [
    {
     "ename": "NameError",
     "evalue": "name 'x' is not defined",
     "output_type": "error",
     "traceback": [
      "\u001b[0;31m---------------------------------------------------------------------------\u001b[0m",
      "\u001b[0;31mNameError\u001b[0m                                 Traceback (most recent call last)",
      "\u001b[0;32m/tmp/ipykernel_2219643/3791599204.py\u001b[0m in \u001b[0;36m<module>\u001b[0;34m\u001b[0m\n\u001b[0;32m----> 1\u001b[0;31m \u001b[0mx\u001b[0m\u001b[0;34m.\u001b[0m\u001b[0mmean\u001b[0m\u001b[0;34m(\u001b[0m\u001b[0;34m)\u001b[0m\u001b[0;34m\u001b[0m\u001b[0;34m\u001b[0m\u001b[0m\n\u001b[0m",
      "\u001b[0;31mNameError\u001b[0m: name 'x' is not defined"
     ]
    }
   ],
   "source": [
    "x.mean()"
   ]
  },
  {
   "cell_type": "code",
   "execution_count": null,
   "id": "993a0167-da46-4625-a738-c549bc74017f",
   "metadata": {},
   "outputs": [
    {
     "data": {
      "text/plain": [
       "tensor(1.0009)"
      ]
     },
     "execution_count": 9,
     "metadata": {},
     "output_type": "execute_result"
    }
   ],
   "source": [
    "x.std()"
   ]
  },
  {
   "cell_type": "code",
   "execution_count": 8,
   "id": "f6ceacdb-5a86-45d3-a0c8-c68adafe9a2e",
   "metadata": {},
   "outputs": [
    {
     "name": "stdout",
     "output_type": "stream",
     "text": [
      "Sliding\n"
     ]
    },
    {
     "data": {
      "text/html": [
       "<video width=\"200\" height=\"100\" controls autoplay loop>\n",
       "  <source type=\"video/mp4\" src=\"data:video/mp4;base64,AAAAHGZ0eXBNNFYgAAACAGlzb21pc28yYXZjMQAAAAhmcmVlAAAQSm1kYXQAAAKuBgX//6rcRem9\n",
       "5tlIt5Ys2CDZI+7veDI2NCAtIGNvcmUgMTU1IHIyOTE3IDBhODRkOTggLSBILjI2NC9NUEVHLTQg\n",
       "QVZDIGNvZGVjIC0gQ29weWxlZnQgMjAwMy0yMDE4IC0gaHR0cDovL3d3dy52aWRlb2xhbi5vcmcv\n",
       "eDI2NC5odG1sIC0gb3B0aW9uczogY2FiYWM9MSByZWY9MyBkZWJsb2NrPTE6MDowIGFuYWx5c2U9\n",
       "MHgzOjB4MTEzIG1lPWhleCBzdWJtZT03IHBzeT0xIHBzeV9yZD0xLjAwOjAuMDAgbWl4ZWRfcmVm\n",
       "PTEgbWVfcmFuZ2U9MTYgY2hyb21hX21lPTEgdHJlbGxpcz0xIDh4OGRjdD0xIGNxbT0wIGRlYWR6\n",
       "b25lPTIxLDExIGZhc3RfcHNraXA9MSBjaHJvbWFfcXBfb2Zmc2V0PS0yIHRocmVhZHM9MyBsb29r\n",
       "YWhlYWRfdGhyZWFkcz0xIHNsaWNlZF90aHJlYWRzPTAgbnI9MCBkZWNpbWF0ZT0xIGludGVybGFj\n",
       "ZWQ9MCBibHVyYXlfY29tcGF0PTAgY29uc3RyYWluZWRfaW50cmE9MCBiZnJhbWVzPTMgYl9weXJh\n",
       "bWlkPTIgYl9hZGFwdD0xIGJfYmlhcz0wIGRpcmVjdD0xIHdlaWdodGI9MSBvcGVuX2dvcD0wIHdl\n",
       "aWdodHA9MiBrZXlpbnQ9MjUwIGtleWludF9taW49MjAgc2NlbmVjdXQ9NDAgaW50cmFfcmVmcmVz\n",
       "aD0wIHJjX2xvb2thaGVhZD00MCByYz1jcmYgbWJ0cmVlPTEgY3JmPTIzLjAgcWNvbXA9MC42MCBx\n",
       "cG1pbj0wIHFwbWF4PTY5IHFwc3RlcD00IGlwX3JhdGlvPTEuNDAgYXE9MToxLjAwAIAAAAaeZYiE\n",
       "AFfSip1Jb/8ImtRofNojMgfJ5nXttUCUmoTh0m6P75x8mVnTR8z4BzpQPHtfDuylxKx+SpkZVzzG\n",
       "ehRjYvto0kH0HWk6bo/jSFnHtfwNApitzeRt5hwaA+LfnbKtwQmvek9Hz1V9qDZvX/7bNzTqhlI+\n",
       "PZ8H9hMdFzJqU4sz8x/+MandLjLvbQnFtO7VIXY0xO0gX9pNUYmBAsgAI4SPMuv0aavLLFWBH+Bx\n",
       "Bf8jSARdUk+wTR8nszXvFQd9fgbt1zWp9ltqDq6akCy93vz5eic+nCIttVzgwKSK8jTJ4lAmJI+X\n",
       "bJ1Pt4OFpPnKaZ/HQg0OrbEH5Lafdy5W+VO9ILDwW+9lnNKUljxJ7ruEhLCO/TqiuVSABAR6aFAa\n",
       "zmq+bHWybL3ol+fhuQrXxrqYpUCcKHIHVRxJHavrXaIf7BACRRy4W9w4C9UEUMSoMGDWdblUuCMU\n",
       "WTh7k1SDgmqaCtZzLbOcEUef1Xz7f26rSlyesz4jDWop9SrXs84Sj5wR3AE9sqbg2epjvyQwK9id\n",
       "lTbHB1PJ3ZTHvAGgusWtgNOO7+u0B61y85ObZJnwfBjvp5GhH9Znu8NlpfKzTbQ9wkiZ9BwKRoIJ\n",
       "TQbYugpCYqGUZHqIpE1mz3dMDeWHDqncVbO5NiGMtId4G2230yza+QWTQJv7r4eyWGlg1JqqnH/O\n",
       "ZRc0x8nlFhbiNk7DCta0UFzvBQ8Y4V+IVnxRwLDf/wyJMM99sTZ1z0IUr8dmhLFlkXEA0RnkCVGy\n",
       "NZjDwr8E6CuLum3PFurJpXeqrcuUSyoO44rgvYLlBs8J1Z/iKVwpMNhKN4jdMAQE82tOmj3KWJG5\n",
       "qvnzlyz6RPNNw8dNKd26z+tDeXAsXbg7eh/zIHdfAiE9ogLFx59PDDltOArYxSI3dOE9vejpOs6p\n",
       "YJYEw+viBLgjLxtU6Zx7HAVb6YUv08MXdo1xdXAtEAwDVPlfw0tksGhmH8txzjikjVx8+7LSCYbk\n",
       "TiULZFi2QllNCuACWmNL4K3Rsu+RSCHeiG1oK1pFJdlmV4zYXsFPO+9s1NCTpG0DLcBEtwBLVCTm\n",
       "eSAAMVqU4yFToqyHfmUVhJFxWumnKUFxCW39eoJ/pTBu7PRO6R4Q7wmkZxI5yjshswUuc6Wnj16x\n",
       "Fp2j+Tc/H+dbt+kN0KTTS+IZJDI8nwKc9Tg2b8hVt8rbWLFEsm209I3xaEyRlOa/3ET/dJMiAvC/\n",
       "Ki3+xiohOfAb+7n/ox192osxz2HbAHix4ksgJVtd8s74cnmA2wF5ZUduseP/MHMGddA7CJPjNx3d\n",
       "4khUfLbOVfq3NdF17n9qGj/7l2dj76C+12IqMcY+I3O3T7CeaDMvMBhITVs5qK1WcqOP2Isaf2MT\n",
       "sn7+Ly4GrdM35EWKLi2PWgiD+JUfq052EMIDzVEurZqgI8IUIOpDQM1H+6tstk8guoNAT+jRtQ5g\n",
       "tBINW3OP21EnVX/USqQL69nxrDJ9EldWGqHFOAwMf+xK7bVpAttrGX8fVKN0zG4V+ezISY4rW3iJ\n",
       "sv8Wc+QKJkoLglgqCEyeP92DpM8ILJhmdL2847MtLT+WK0pgtD4bAw+wy9WbTgukKM8AoOwNtkYz\n",
       "LNx0Xk61BpTwf0t29DVGHiJ5uU/oTT7JST4tb4HCIOUj/wM5c5JkToBNIn/FOIfHrx5bKjdacfyS\n",
       "PiIqHKVAKPsvwGegeAfSjsMY2uCKQeuZe6kvs+x5ZdBu5CV1+X0t9NjWx0QmXbrRk8cZbfrS5mxK\n",
       "RHYDvzabmnGM4k2icQppPsgeaydCCdvClEEjA+WZTQnlthY6il4I3DWeLvUHPfLt22e6TYPiWa9/\n",
       "2WzVoWayneomc5oxm2P4zP7asKf98iGdKGkrFdma0Xb4IF21glnxvTgu7JNsuu4zTD0W+z7I9Nz8\n",
       "1PcyMzZ/IIa4FxW6s9yKCBNHWQ8+NFD1stykaULpmY6sMkQDLYt8P7ZNSuy6uNbYl9dd6fe3DMLv\n",
       "oad+ZEXB10JKkmhUeh9xShbZ/4pMMkNFSLUMv1qhYpnfIVMqxeNkz//o7mh8NrIvlNxI/77g6iic\n",
       "+Bv0TctDimjAHS8iy6ptSE6AYUp54xSsdCi797vI/zPQ2c26OgOvD+UP+lPUmIFOuJYXdJfWcqpI\n",
       "dSHoyz4UtYqD6ZjBABl5oVpXRipWp2HY2S6cCf0IfAUPf9GHc9hszJ8wzsgW8rrgyQRllbDevlqV\n",
       "XdPkjoCZqhWd7n22TMUuhkJZJAJybIvQqH4GcyYwFcBWSzXugsEAAAFOQZohbEZ/idbEOfvcI62J\n",
       "DkoHBhof/AjVCcTpj6wpF2dKnwfCgdaa1y3YwXyUoYKYO2m6Pg52OOEKvgnpS268zRBBCcrGTa/2\n",
       "V9Bym5wgZkWlKN55xp1CJrXAVzhrNelfi0KF5d6FnJ/QgAnACSI7ebV1ocrccg5V4EIgPj6uCsdD\n",
       "x6at27jc90uFD2LuYBjvWSrwYJbj4ED8PRurwcHt++3cxBBXepytlztJCfeqJCzNiPvnBwvkNgbF\n",
       "UyA88DAllMWmZZVit6nWnyF/5cDLQYZ0DUeQJoHh6ce5H0DzuU54mDBaOgHgaxi/AQFaTzch/313\n",
       "GEwMnNO+uOwcAOfLjO/PaWgRCGzjlpNwG5LC5tKHsYBM7wwky2WRzwFXZuVKUmcRL8j6sgACHv/9\n",
       "7ZW2pTMGqAeS++Qo6VTVfGAK5DhIcXolk5jQ9w4y4u/PDQAAAulBmkQ8IZMphCn/hJJzzxlP6QfC\n",
       "m7jRNazBq2ee/vJG0ipu8xUpy5wdktaTbDLv9rg42GB1TYPAexP3BxWiKt45MQgenMLWsroZfD/s\n",
       "czB6ZTDPBbYuitsiGSgAwn8xVzpf2gTbbS9NUX1cPpjORh00p0nPb7J60X0/jkXVj41oUFQcTtb8\n",
       "pPZtdo+LCzr2aNnY2kgekigD9WIFOCJYLFOjX9zK1VzBf7t/Gqjcn7e0WiEMXAQ5b1kK+Cye69Ru\n",
       "74ooIsxY0hEraFarMmLpqTWmQNJ7O8oNRWLsU3i5trNwpt2roe9A8n2yRWWDdaU8Kp6uWLB0e5XV\n",
       "/y9SPuUlZ6o4dPU/dh85Wlm/LjMWQjkHAD5pIXlcTEx2l1DeBN6gGH+drlXvvWtFBAO/pJFKw8Xk\n",
       "L+eAEer8MLXr2vRY3RSGEUeywn9lbZSnib6ymYhf8c12pfN0pNnp8CPqx/cza+Iepqc4QGPqKAMP\n",
       "/RLlJvu9zDW6/M60f05yOHJrzW44nqiTcOEb0rVUnHZAZe5IOy5RuXTX0j9M6uvx8JSMGNqqjDsW\n",
       "v/qaj3zTKGmd48dUDDMrUX1Ea6a3/EfPve0bBJEXB3LJt6pNoUJhdF3b5YH7fHzG1DDjGTUY3t07\n",
       "3w/5HjpiIQOVFKxof/PXJmZG/dSn0mGUUyv6ZCAVdApHtdLwDsCIBQ2RyXyP3o1FxjdB5CtP8nsf\n",
       "Pbtw9zh1z6glVlpzpzQZQ1eZigi8S/Sz6cg1b4JRWP2bx9ITESo1oxHTCUU83Ma3kpWk3/hcBoRE\n",
       "tJgR4gVgvLxI9iF5Pqo35vGcP68DBExsBrEWQgnWHXJNlb8UjsA4sU49s9ltCTDhdQzW6R36wHqe\n",
       "2mJSsNTSJmIOBqBws0pjAK2ct9N5au6xbpZM8BByejUOqhwUN80KwdZiEdv5vN+L/876Ov04nImt\n",
       "78ZGBMGEYPYQyaTt/17xzD5BWwZu/OsLEI23T3U5Bk7+a0aOVV2C8ajBAAABpEGeYmpTwh+rfWEy\n",
       "3QTXjsbAt217Z1bw2OacxEpeZdac+qqUN4s1lI35VeplU9z+r+NMySJea6rjD13iyAawV/I+ntv/\n",
       "/ppq6yZFdPysZRh6zUbbEml74/uWj2gHhz68XPfflJ15GNLg+SgLNiZI8Z/QgerFNOeRaMIRjFby\n",
       "zmJkwZDggAk42RCE5CrLGdBSvEa+s/J+ZwsFcXhk2hY0QXw30wLM1oZ6H2vH3XxEj0zypnIYdvCj\n",
       "vWr0COxbOUZly8hz+jvkh6QnbcAGRZ+/XtsUXR2T/2UA1DuRUVnMKGo5uUg2IgEJX9D4+U9anSN9\n",
       "PqHen7OzrquCVP59zuMTBlO+Bxf1PuQ1PNb4uTuKzzZCXvxoolesU8ICzAnmObGMSTZDlSEFtmJ1\n",
       "Gyb3NjRB77zysik9Kx11tJTJ8jFtmRH8AN82cfd7rOGyVNfb+P8EgOGNv3f8sv/y6aQhxGlWeqJD\n",
       "GHK1y2n2kQ/IAKBu6R70L3tbHS1RKOhMhJLR64pXK3YEyq/o78lIqDG3myhT6lFk1OJ0ZOPHX+/c\n",
       "xaDH4VYl3KtrwAAAAQMBnoNqQp/NngnwTO0+mGyD7T8MF0f7RRUaorVTsECEn5PzOaQcpRpNMLvX\n",
       "Sfq8f2DKSyaIYre5zjOsFY9IuZ2N/KUovupPAlaDd/xIjFoGY373LCcgafnEfIVg+cKOFJTJfCku\n",
       "RHn48rNHpjx3Qf/0kyiYYsWywOgUoHhiveMtoOjrAXS8xYCaX6X+FFclqtEe9znzdifXpMqUvDjD\n",
       "UtAFEYXCs9BGDMlFyOZJaCXZHLZMuPH1sLpPktppcQ/0YB/o+dYzsZFO/WCvQB3SsgBXNr56AgRB\n",
       "Q0T2dX4p0K0nbl+w3M4ujfs6qJaBAdII5uI9RfbFitt9M6v2WMq933dbtKM5AAADW21vb3YAAABs\n",
       "bXZoZAAAAAAAAAAAAAAAAAAAA+gAAAD6AAEAAAEAAAAAAAAAAAAAAAABAAAAAAAAAAAAAAAAAAAA\n",
       "AQAAAAAAAAAAAAAAAAAAQAAAAAAAAAAAAAAAAAAAAAAAAAAAAAAAAAAAAAAAAAIAAAKFdHJhawAA\n",
       "AFx0a2hkAAAAAwAAAAAAAAAAAAAAAQAAAAAAAAD6AAAAAAAAAAAAAAAAAAAAAAABAAAAAAAAAAAA\n",
       "AAAAAAAAAQAAAAAAAAAAAAAAAAAAQAAAAADIAAAAZAAAAAAAJGVkdHMAAAAcZWxzdAAAAAAAAAAB\n",
       "AAAA+gAABAAAAQAAAAAB/W1kaWEAAAAgbWRoZAAAAAAAAAAAAAAAAAAAKAAAAAoAVcQAAAAAAC1o\n",
       "ZGxyAAAAAAAAAAB2aWRlAAAAAAAAAAAAAAAAVmlkZW9IYW5kbGVyAAAAAahtaW5mAAAAFHZtaGQA\n",
       "AAABAAAAAAAAAAAAAAAkZGluZgAAABxkcmVmAAAAAAAAAAEAAAAMdXJsIAAAAAEAAAFoc3RibAAA\n",
       "ALRzdHNkAAAAAAAAAAEAAACkYXZjMQAAAAAAAAABAAAAAAAAAAAAAAAAAAAAAADIAGQASAAAAEgA\n",
       "AAAAAAAAAQAAAAAAAAAAAAAAAAAAAAAAAAAAAAAAAAAAAAAAAAAAABj//wAAADJhdmNDAWQAC//h\n",
       "ABlnZAALrNlDT+WeEAAAAwAQAAADAoDxQplgAQAGaOvjyyLAAAAAHHV1aWRraEDyXyRPxbo5pRvP\n",
       "AyPzAAAAAAAAABhzdHRzAAAAAAAAAAEAAAAFAAACAAAAABRzdHNzAAAAAAAAAAEAAAABAAAAKGN0\n",
       "dHMAAAAAAAAAAwAAAAIAAAQAAAAAAQAACAAAAAACAAACAAAAABxzdHNjAAAAAAAAAAEAAAABAAAA\n",
       "BQAAAAEAAAAoc3RzegAAAAAAAAAAAAAABQAACVQAAAFSAAAC7QAAAagAAAEHAAAAFHN0Y28AAAAA\n",
       "AAAAAQAAACwAAABidWR0YQAAAFptZXRhAAAAAAAAACFoZGxyAAAAAAAAAABtZGlyYXBwbAAAAAAA\n",
       "AAAAAAAAAC1pbHN0AAAAJal0b28AAAAdZGF0YQAAAAEAAAAATGF2ZjU4LjI5LjEwMA==\n",
       "\">\n",
       "  Your browser does not support the video tag.\n",
       "</video>"
      ],
      "text/plain": [
       "<IPython.core.display.HTML object>"
      ]
     },
     "execution_count": 8,
     "metadata": {},
     "output_type": "execute_result"
    },
    {
     "data": {
      "image/png": "[encoded data removed]",
      "text/plain": [
       "<Figure size 200x100 with 1 Axes>"
      ]
     },
     "metadata": {
      "needs_background": "light"
     },
     "output_type": "display_data"
    }
   ],
   "source": [
    "video = 0\n",
    "\n",
    "ani = plot_video(dataset[video][1])\n",
    "print(dataset[video][0])\n",
    "HTML(ani.to_html5_video())"
   ]
  },
  {
   "cell_type": "code",
   "execution_count": 9,
   "id": "9961ab49-0278-4e75-8a40-de8ee048ead5",
   "metadata": {},
   "outputs": [],
   "source": [
    "# Get the devices available and set the batch size\n",
    "device = torch.device(\"cuda:1\" if torch.cuda.is_available() else \"cpu\")\n",
    "if device == \"cpu\":\n",
    "    batch_size = 1\n",
    "else:\n",
    "    batch_size = 4*8\n",
    "    # batch_size = 8"
   ]
  },
  {
   "cell_type": "code",
   "execution_count": 10,
   "id": "e4a094c8-c54c-4965-aaa0-da9013435b07",
   "metadata": {},
   "outputs": [],
   "source": [
    "data_loader = torch.utils.data.DataLoader(dataset, batch_size=batch_size,\n",
    "                                          shuffle=True)"
   ]
  },
  {
   "cell_type": "code",
   "execution_count": 11,
   "id": "a69acfbb-0889-46fe-8672-968f382bcf22",
   "metadata": {},
   "outputs": [],
   "source": [
    "sparse_layer = ConvSparseLayer(in_channels=1,\n",
    "                               out_channels=64,\n",
    "                               kernel_size=(5, 15, 15),\n",
    "                               stride=1,\n",
    "                               padding=(0, 7, 7),\n",
    "                               convo_dim=3,\n",
    "                               rectifier=True,\n",
    "                               leaky=False,\n",
    "                               lam=0.05,\n",
    "                               max_activation_iter=200,\n",
    "                               activation_lr=1e-1)\n",
    "model = sparse_layer\n",
    "model = torch.nn.DataParallel(model, device_ids=[1, 0, 2, 3])\n",
    "model.to(device)\n",
    "\n",
    "#optimizer = torch.optim.Adam(sparse_layer.parameters(),\n",
    "#                             lr=3.0e-02)\n",
    "optimizer = torch.optim.SGD(sparse_layer.parameters(),\n",
    "                            momentum=0.9,\n",
    "                            lr=1e-4)\n",
    "# scheduler = torch.optim.lr_scheduler.CyclicLR(optimizer, base_lr=1e-7, max_lr=1.0e-01)\n",
    "scheduler = torch.optim.lr_scheduler.OneCycleLR(optimizer, max_lr=1, steps_per_epoch=len(data_loader), epochs=30)\n",
    "# scheduler = torch.optim.lr_scheduler.CyclicLR(optimizer, base_lr=1e-6, max_lr=1e-1, step_size_up=360)"
   ]
  },
  {
   "cell_type": "code",
   "execution_count": null,
   "id": "9b05db69-2591-41cc-ae0c-c66281df65e0",
   "metadata": {},
   "outputs": [],
   "source": [
    "# for g in optimizer.param_groups:\n",
    "#     g['lr'] = 5e-4"
   ]
  },
  {
   "cell_type": "code",
   "execution_count": null,
   "id": "e1e89bf2-a13b-466c-aca7-29b82c2641a0",
   "metadata": {},
   "outputs": [],
   "source": [
    "# scheduler = torch.optim.lr_scheduler.OneCycleLR(optimizer, max_lr=1e-1, steps_per_epoch=len(data_loader), epochs=15)\n",
    "# sparse_layer.max_activation_iter=200"
   ]
  },
  {
   "cell_type": "code",
   "execution_count": 12,
   "id": "51f5a5ca-20c6-45df-b3e3-63b34cb1e892",
   "metadata": {},
   "outputs": [],
   "source": [
    "best = float('inf')\n",
    "loss_log = []"
   ]
  },
  {
   "cell_type": "code",
   "execution_count": 13,
   "id": "9d41074d-5e4d-4a5d-ab00-a143bdc18802",
   "metadata": {},
   "outputs": [
    {
     "name": "stderr",
     "output_type": "stream",
     "text": [
      "  3%|▎         | 1/30 [28:25<13:44:17, 1705.42s/it]"
     ]
    },
    {
     "name": "stdout",
     "output_type": "stream",
     "text": [
      "Epoch Loss: 571.5057040690838; Percent active: 0.11778112287438933\n"
     ]
    },
    {
     "name": "stderr",
     "output_type": "stream",
     "text": [
      "  7%|▋         | 2/30 [51:56<11:54:56, 1532.03s/it]"
     ]
    },
    {
     "name": "stdout",
     "output_type": "stream",
     "text": [
      "Epoch Loss: 413.25281403952636; Percent active: 0.1390064908927565\n"
     ]
    },
    {
     "name": "stderr",
     "output_type": "stream",
     "text": [
      " 10%|█         | 3/30 [1:20:18<12:04:19, 1609.61s/it]"
     ]
    },
    {
     "name": "stdout",
     "output_type": "stream",
     "text": [
      "Epoch Loss: 407.850543068388; Percent active: 0.13902291666666666\n"
     ]
    },
    {
     "name": "stderr",
     "output_type": "stream",
     "text": [
      " 13%|█▎        | 4/30 [1:47:14<11:38:36, 1612.16s/it]"
     ]
    },
    {
     "name": "stdout",
     "output_type": "stream",
     "text": [
      "Epoch Loss: 406.01577663600824; Percent active: 0.13823637832934046\n"
     ]
    },
    {
     "name": "stderr",
     "output_type": "stream",
     "text": [
      " 17%|█▋        | 5/30 [2:13:54<11:09:55, 1607.84s/it]"
     ]
    },
    {
     "name": "stdout",
     "output_type": "stream",
     "text": [
      "Epoch Loss: 403.63579598605656; Percent active: 0.1375731666607948\n"
     ]
    },
    {
     "name": "stderr",
     "output_type": "stream",
     "text": [
      " 20%|██        | 6/30 [2:38:52<10:28:10, 1570.44s/it]"
     ]
    },
    {
     "name": "stdout",
     "output_type": "stream",
     "text": [
      "Epoch Loss: 402.2363290768824; Percent active: 0.13763604759723788\n"
     ]
    },
    {
     "name": "stderr",
     "output_type": "stream",
     "text": [
      " 23%|██▎       | 7/30 [3:03:21<9:49:17, 1537.26s/it] "
     ]
    },
    {
     "name": "stdout",
     "output_type": "stream",
     "text": [
      "Epoch Loss: 401.72139953590346; Percent active: 0.13797862733699737\n"
     ]
    },
    {
     "name": "stderr",
     "output_type": "stream",
     "text": [
      " 27%|██▋       | 8/30 [3:27:28<9:13:07, 1508.52s/it]"
     ]
    },
    {
     "name": "stdout",
     "output_type": "stream",
     "text": [
      "Epoch Loss: 400.96744774463974; Percent active: 0.13677216595030064\n"
     ]
    },
    {
     "name": "stderr",
     "output_type": "stream",
     "text": [
      " 30%|███       | 9/30 [3:51:56<8:43:36, 1496.04s/it]"
     ]
    },
    {
     "name": "stdout",
     "output_type": "stream",
     "text": [
      "Epoch Loss: 400.75348399268734; Percent active: 0.13564094765830514\n"
     ]
    },
    {
     "name": "stderr",
     "output_type": "stream",
     "text": [
      " 33%|███▎      | 10/30 [4:15:59<8:13:10, 1479.55s/it]"
     ]
    },
    {
     "name": "stdout",
     "output_type": "stream",
     "text": [
      "Epoch Loss: 399.2594297596137; Percent active: 0.13384356518343668\n"
     ]
    },
    {
     "name": "stderr",
     "output_type": "stream",
     "text": [
      " 37%|███▋      | 11/30 [4:40:53<7:49:59, 1484.16s/it]"
     ]
    },
    {
     "name": "stdout",
     "output_type": "stream",
     "text": [
      "Epoch Loss: 398.8675944813209; Percent active: 0.13501895712960355\n"
     ]
    },
    {
     "name": "stderr",
     "output_type": "stream",
     "text": [
      " 40%|████      | 12/30 [5:05:53<7:26:39, 1488.88s/it]"
     ]
    },
    {
     "name": "stdout",
     "output_type": "stream",
     "text": [
      "Epoch Loss: 399.61843251626505; Percent active: 0.13687344557379744\n"
     ]
    },
    {
     "name": "stderr",
     "output_type": "stream",
     "text": [
      " 43%|████▎     | 13/30 [5:31:08<7:04:02, 1496.65s/it]"
     ]
    },
    {
     "name": "stdout",
     "output_type": "stream",
     "text": [
      "Epoch Loss: 399.29484363715034; Percent active: 0.13828749721086997\n"
     ]
    },
    {
     "name": "stderr",
     "output_type": "stream",
     "text": [
      " 47%|████▋     | 14/30 [5:55:49<6:37:52, 1492.06s/it]"
     ]
    },
    {
     "name": "stdout",
     "output_type": "stream",
     "text": [
      "Epoch Loss: 400.19163813083884; Percent active: 0.1391203672550263\n"
     ]
    },
    {
     "name": "stderr",
     "output_type": "stream",
     "text": [
      " 50%|█████     | 15/30 [6:19:46<6:08:50, 1475.34s/it]"
     ]
    },
    {
     "name": "stdout",
     "output_type": "stream",
     "text": [
      "Epoch Loss: 399.9477456260202; Percent active: 0.13858584281637543\n"
     ]
    },
    {
     "name": "stderr",
     "output_type": "stream",
     "text": [
      " 53%|█████▎    | 16/30 [6:44:08<5:43:20, 1471.46s/it]"
     ]
    },
    {
     "name": "stdout",
     "output_type": "stream",
     "text": [
      "Epoch Loss: 400.06235015307186; Percent active: 0.1381417926179068\n"
     ]
    },
    {
     "name": "stderr",
     "output_type": "stream",
     "text": [
      " 57%|█████▋    | 17/30 [7:08:57<5:19:56, 1476.63s/it]"
     ]
    },
    {
     "name": "stdout",
     "output_type": "stream",
     "text": [
      "Epoch Loss: 399.5035348094437; Percent active: 0.13732236441892146\n"
     ]
    },
    {
     "name": "stderr",
     "output_type": "stream",
     "text": [
      " 60%|██████    | 18/30 [7:33:02<4:53:27, 1467.28s/it]"
     ]
    },
    {
     "name": "stdout",
     "output_type": "stream",
     "text": [
      "Epoch Loss: 400.3568889355579; Percent active: 0.13799257005120255\n"
     ]
    },
    {
     "name": "stderr",
     "output_type": "stream",
     "text": [
      " 63%|██████▎   | 19/30 [7:57:25<4:28:43, 1465.81s/it]"
     ]
    },
    {
     "name": "stdout",
     "output_type": "stream",
     "text": [
      "Epoch Loss: 400.0925268540925; Percent active: 0.13782980699220218\n"
     ]
    },
    {
     "name": "stderr",
     "output_type": "stream",
     "text": [
      " 67%|██████▋   | 20/30 [8:22:18<4:05:40, 1474.04s/it]"
     ]
    },
    {
     "name": "stdout",
     "output_type": "stream",
     "text": [
      "Epoch Loss: 400.04957612104675; Percent active: 0.13843604480810787\n"
     ]
    },
    {
     "name": "stderr",
     "output_type": "stream",
     "text": [
      " 70%|███████   | 21/30 [8:47:12<3:41:59, 1479.97s/it]"
     ]
    },
    {
     "name": "stdout",
     "output_type": "stream",
     "text": [
      "Epoch Loss: 400.8113941879301; Percent active: 0.13988323409902292\n"
     ]
    },
    {
     "name": "stderr",
     "output_type": "stream",
     "text": [
      " 73%|███████▎  | 22/30 [9:12:06<3:17:55, 1484.39s/it]"
     ]
    },
    {
     "name": "stdout",
     "output_type": "stream",
     "text": [
      "Epoch Loss: 400.7549255898643; Percent active: 0.13980844313697857\n"
     ]
    },
    {
     "name": "stderr",
     "output_type": "stream",
     "text": [
      " 77%|███████▋  | 23/30 [9:37:12<2:53:54, 1490.70s/it]"
     ]
    },
    {
     "name": "stdout",
     "output_type": "stream",
     "text": [
      "Epoch Loss: 400.65256854332915; Percent active: 0.14054840828753287\n"
     ]
    },
    {
     "name": "stderr",
     "output_type": "stream",
     "text": [
      " 80%|████████  | 24/30 [10:02:17<2:29:29, 1494.96s/it]"
     ]
    },
    {
     "name": "stdout",
     "output_type": "stream",
     "text": [
      "Epoch Loss: 400.2262079983625; Percent active: 0.139541015625\n"
     ]
    },
    {
     "name": "stderr",
     "output_type": "stream",
     "text": [
      " 83%|████████▎ | 25/30 [10:27:14<2:04:38, 1495.62s/it]"
     ]
    },
    {
     "name": "stdout",
     "output_type": "stream",
     "text": [
      "Epoch Loss: 399.4490166871631; Percent active: 0.13944908061466554\n"
     ]
    },
    {
     "name": "stderr",
     "output_type": "stream",
     "text": [
      " 87%|████████▋ | 26/30 [10:52:22<1:39:57, 1499.35s/it]"
     ]
    },
    {
     "name": "stdout",
     "output_type": "stream",
     "text": [
      "Epoch Loss: 399.7840832492007; Percent active: 0.1404250623884348\n"
     ]
    },
    {
     "name": "stderr",
     "output_type": "stream",
     "text": [
      " 90%|█████████ | 27/30 [11:17:26<1:15:02, 1500.76s/it]"
     ]
    },
    {
     "name": "stdout",
     "output_type": "stream",
     "text": [
      "Epoch Loss: 400.21525154558174; Percent active: 0.14269291810527057\n"
     ]
    },
    {
     "name": "stderr",
     "output_type": "stream",
     "text": [
      " 93%|█████████▎| 28/30 [11:42:26<50:01, 1500.63s/it]  "
     ]
    },
    {
     "name": "stdout",
     "output_type": "stream",
     "text": [
      "Epoch Loss: 400.739897798569; Percent active: 0.13979781405604097\n"
     ]
    },
    {
     "name": "stderr",
     "output_type": "stream",
     "text": [
      " 97%|█████████▋| 29/30 [12:07:47<25:06, 1506.75s/it]"
     ]
    },
    {
     "name": "stdout",
     "output_type": "stream",
     "text": [
      "Epoch Loss: 400.91260427355274; Percent active: 0.139670875757469\n"
     ]
    },
    {
     "name": "stderr",
     "output_type": "stream",
     "text": [
      "100%|██████████| 30/30 [12:33:26<00:00, 1506.89s/it]"
     ]
    },
    {
     "name": "stdout",
     "output_type": "stream",
     "text": [
      "Epoch Loss: 401.1702029670105; Percent active: 0.14040062535231115\n"
     ]
    },
    {
     "name": "stderr",
     "output_type": "stream",
     "text": [
      "\n"
     ]
    }
   ],
   "source": [
    "for epoch in tqdm(range(30)):\n",
    "    act_sum = None\n",
    "    epoch_loss = 0\n",
    "    act_num = 0\n",
    "    act_denom = 0\n",
    "    # for local_batch in train_loader:\n",
    "    for labels, local_batch, filenames in data_loader:\n",
    "        local_batch = local_batch.to(device)\n",
    "\n",
    "        activations = model(local_batch)\n",
    "        act_num += len(activations[activations>0])\n",
    "        act_denom += len(activations.flatten())\n",
    "\n",
    "        if act_sum is None:\n",
    "            act_sum = (activations > 0).int().sum(0).sum(1).sum(1).sum(1).cpu()\n",
    "        else:\n",
    "            act_sum += (activations > 0).int().sum(0).sum(1).sum(1).sum(1).cpu()\n",
    "\n",
    "        loss = sparse_layer.loss(local_batch, activations)\n",
    "        epoch_loss += loss.item() * local_batch.size(0)\n",
    "\n",
    "        optimizer.zero_grad()\n",
    "        loss.backward()\n",
    "        optimizer.step()\n",
    "        # scheduler.step()\n",
    "        sparse_layer.normalize_weights()\n",
    "        # print(loss)\n",
    "\n",
    "\n",
    "    # scheduler.step()\n",
    "    epoch_loss /= len(data_loader.sampler)\n",
    "    loss_log.append(epoch_loss)\n",
    "    print(\"Epoch Loss: {}; Percent active: {}\".format(epoch_loss, act_num / act_denom))\n",
    "    \n",
    "    # plt.plot(loss_log)\n",
    "    # plt.title(\"Loss over training epochs (final loss={:0.2f})\".format(loss_log[-1]))\n",
    "    # plt.savefig(\"loss_log.png\")\n",
    "    # plt.clf()"
   ]
  },
  {
   "cell_type": "code",
   "execution_count": null,
   "id": "e42450f5-d543-4511-9820-63615278f0fb",
   "metadata": {},
   "outputs": [],
   "source": [
    "print(\"Percent active: {}\".format(act_num / act_denom))"
   ]
  },
  {
   "cell_type": "code",
   "execution_count": null,
   "id": "3c0ebbca-32fa-49b0-9165-8ebf43b9ab17",
   "metadata": {},
   "outputs": [],
   "source": [
    "loss_log[-1]"
   ]
  },
  {
   "cell_type": "code",
   "execution_count": null,
   "id": "2dc06112-dd0e-4860-a108-fd04f32bdaf0",
   "metadata": {},
   "outputs": [],
   "source": [
    "plt.plot(loss_log[1:])\n",
    "# plt.ylim(500, 700)"
   ]
  },
  {
   "cell_type": "code",
   "execution_count": null,
   "id": "f77c8d96-316b-47f9-91ee-4a1e09305e11",
   "metadata": {},
   "outputs": [],
   "source": [
    "min(loss_log)"
   ]
  },
  {
   "cell_type": "code",
   "execution_count": null,
   "id": "ea1a5544-ab78-4ec3-ae5b-0a62c14bc92a",
   "metadata": {},
   "outputs": [],
   "source": [
    "plt.plot(loss_log[-90:])"
   ]
  },
  {
   "cell_type": "code",
   "execution_count": null,
   "id": "fee13b9a-f2bf-4311-9fbf-a9fd41b8e33e",
   "metadata": {},
   "outputs": [],
   "source": [
    "len(activations[activations>0])/len(activations.flatten())"
   ]
  },
  {
   "cell_type": "code",
   "execution_count": null,
   "id": "a0ef09e3-9a7b-4c60-8c74-1ab867767e42",
   "metadata": {},
   "outputs": [],
   "source": [
    "activations.flatten().shape"
   ]
  },
  {
   "cell_type": "code",
   "execution_count": null,
   "id": "6c79e51d-e102-4e63-b1b1-2be94d0bbc59",
   "metadata": {},
   "outputs": [],
   "source": [
    "plt.plot(sorted(list(activations[0].squeeze().abs().sum(1).sum(1).cpu().numpy()), reverse=True))"
   ]
  },
  {
   "cell_type": "code",
   "execution_count": null,
   "id": "9ed34f05-e647-41c4-b79e-aa4b7d02b141",
   "metadata": {},
   "outputs": [],
   "source": [
    "ani = plot_filters(sparse_layer.filters.cpu().detach())\n",
    "HTML(ani.to_html5_video())"
   ]
  },
  {
   "cell_type": "code",
   "execution_count": null,
   "id": "0252d8a4-fa82-483b-a362-8aefc7871b6c",
   "metadata": {},
   "outputs": [],
   "source": [
    "ani = plot_video(dataset[1100][1])\n",
    "HTML(ani.to_html5_video())"
   ]
  },
  {
   "cell_type": "code",
   "execution_count": null,
   "id": "beada8db-77cc-4733-952f-80e63929bf94",
   "metadata": {},
   "outputs": [],
   "source": [
    "# 5, 34\n",
    "f = 3\n",
    "v = 1100\n",
    "act = model(dataset[v][1].unsqueeze(0))\n",
    "subact = torch.zeros_like(act)\n",
    "subact[:, f] = act[:, f]\n",
    "# plt.imshow(act[f], cmap=\"jet\")\n",
    "recon = sparse_layer.reconstructions(subact).squeeze(0).detach().cpu().numpy()\n",
    "ani = plot_video(recon)\n",
    "HTML(ani.to_html5_video())"
   ]
  },
  {
   "cell_type": "code",
   "execution_count": null,
   "id": "89f67a86-412e-4838-a235-604d1306b184",
   "metadata": {},
   "outputs": [],
   "source": [
    "subact = torch.zeros_like(act)\n",
    "for x in range(15):\n",
    "    subact[:, act_idx[x][1]] = act[:, act_idx[x][1]]\n",
    "# plt.imshow(act[f], cmap=\"jet\")\n",
    "recon = sparse_layer.reconstructions(subact).squeeze(0).detach().cpu().numpy()\n",
    "ani = plot_video(recon)\n",
    "HTML(ani.to_html5_video())"
   ]
  },
  {
   "cell_type": "code",
   "execution_count": null,
   "id": "cf6ce92b-d86c-4786-9bdb-7f04b6f1d39b",
   "metadata": {},
   "outputs": [],
   "source": [
    "subact = torch.tensor(act)\n",
    "print(subact.shape)\n",
    "# (313.25714, 56),\n",
    "#  (132.64676, 63),\n",
    "#  (129.76068, 21),\n",
    "#  (120.53765, 39),\n",
    "#  (120.193306, 33),\n",
    "#  (115.0895, 3),\n",
    "for x in range(15):\n",
    "    subact[:, act_idx[x][1]] = 0\n",
    "# plt.imshow(act[f], cmap=\"jet\")\n",
    "recon = sparse_layer.reconstructions(subact).squeeze(0).detach().cpu().numpy()\n",
    "ani = plot_video(recon)\n",
    "HTML(ani.to_html5_video())"
   ]
  },
  {
   "cell_type": "code",
   "execution_count": null,
   "id": "e3c46d87-e137-4338-b433-85b3f0bc653a",
   "metadata": {},
   "outputs": [],
   "source": [
    "# 5, 34\n",
    "act = model(dataset[v][1].unsqueeze(0)).squeeze().cpu().detach().numpy()\n",
    "# act[f].shape\n",
    "plt.imshow(act[45], cmap=\"jet\")"
   ]
  },
  {
   "cell_type": "code",
   "execution_count": null,
   "id": "3fafabbc-60c6-4e08-b76b-0e8bcae79e7a",
   "metadata": {},
   "outputs": [],
   "source": [
    "act_idx = sorted([(v,i) for i,v in enumerate(act.squeeze()[:, 60:150, 60:200].sum(1).sum(1))], reverse=True)\n",
    "act_idx"
   ]
  },
  {
   "cell_type": "code",
   "execution_count": null,
   "id": "4347c50a-a1b7-4fbd-b32b-0d73253fb432",
   "metadata": {},
   "outputs": [],
   "source": [
    "optimizer = torch.optim.SGD(sparse_layer.parameters(),\n",
    "                            momentum=0.9,\n",
    "                            lr=1e-5)\n",
    "# scheduler = torch.optim.lr_scheduler.CyclicLR(optimizer, base_lr=1e-7, max_lr=1.0e-01)\n",
    "# scheduler = torch.optim.lr_scheduler.OneCycleLR(optimizer, max_lr=1e-3, steps_per_epoch=len(data_loader), epochs=100)\n",
    "scheduler = torch.optim.lr_scheduler.CyclicLR(optimizer, base_lr=1e-10, max_lr=1e-2, step_size_up=(17*43)//2+1)\n",
    "scheduler = torch.optim.lr_scheduler.OneCycleLR(optimizer, max_lr=1e-2, total_steps=None, epochs=17, steps_per_epoch=43)"
   ]
  },
  {
   "cell_type": "code",
   "execution_count": null,
   "id": "3a0c8200-88dd-4ddf-a6e7-4778901694bf",
   "metadata": {},
   "outputs": [],
   "source": [
    "lrs = []\n",
    "momentums = []\n",
    "for i in range(17*43):\n",
    "    scheduler.step()\n",
    "    for g in optimizer.param_groups:\n",
    "        lrs.append(g['lr'])\n",
    "        momentums.append(g['momentum'])\n",
    "        # print(g['lr'], g['momentum'])\n",
    "plt.plot(lrs)"
   ]
  },
  {
   "cell_type": "code",
   "execution_count": null,
   "id": "1ec03006-ebe8-42ec-8be2-0ebb93df9a40",
   "metadata": {},
   "outputs": [],
   "source": [
    "lrs[-1]"
   ]
  },
  {
   "cell_type": "code",
   "execution_count": 14,
   "id": "c7439180-a894-496e-9774-ae6c3feec612",
   "metadata": {},
   "outputs": [],
   "source": [
    "torch.save({'model_state_dict': model.module.state_dict(),\n",
    "            'optimizer_state_dict': optimizer.state_dict(),},\n",
    "           \"saved_models/sparse_conv3d_model-pleural_clips2_5x15x15-11-14-21.pt\")"
   ]
  },
  {
   "cell_type": "code",
   "execution_count": null,
   "id": "a8b053fd-5702-41ea-b779-931a9a801fcd",
   "metadata": {},
   "outputs": [],
   "source": [
    "checkpoint = torch.load(\"saved_models/sparse_conv3d_model-pleural_clips2_5x15x15-11-14-21.pt\")\n",
    "sparse_layer.load_state_dict(checkpoint['model_state_dict'])"
   ]
  },
  {
   "cell_type": "code",
   "execution_count": null,
   "id": "fde50cc0-0919-426e-ae0d-08f88d77a5e0",
   "metadata": {},
   "outputs": [],
   "source": []
  }
 ],
 "metadata": {
  "kernelspec": {
   "display_name": "chris-py3.9.6",
   "language": "python",
   "name": "chris-py3.9.6"
  },
  "language_info": {
   "codemirror_mode": {
    "name": "ipython",
    "version": 3
   },
   "file_extension": ".py",
   "mimetype": "text/x-python",
   "name": "python",
   "nbconvert_exporter": "python",
   "pygments_lexer": "ipython3",
   "version": "3.9.6"
  }
 },
 "nbformat": 4,
 "nbformat_minor": 5
}
